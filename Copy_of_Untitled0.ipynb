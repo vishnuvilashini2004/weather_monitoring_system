{
  "cells": [
    {
      "cell_type": "markdown",
      "metadata": {
        "id": "view-in-github",
        "colab_type": "text"
      },
      "source": [
        "<a href=\"https://colab.research.google.com/github/vishnuvilashini2004/weather_monitoring_system/blob/main/Copy_of_Untitled0.ipynb\" target=\"_parent\"><img src=\"https://colab.research.google.com/assets/colab-badge.svg\" alt=\"Open In Colab\"/></a>"
      ]
    },
    {
      "cell_type": "code",
      "source": [
        "pip install joblib"
      ],
      "metadata": {
        "id": "5twLBp1t0IUE",
        "colab": {
          "base_uri": "https://localhost:8080/"
        },
        "outputId": "2ad84ee7-6076-47f1-d492-1f6278174521"
      },
      "execution_count": null,
      "outputs": [
        {
          "output_type": "stream",
          "name": "stdout",
          "text": [
            "Looking in indexes: https://pypi.org/simple, https://us-python.pkg.dev/colab-wheels/public/simple/\n",
            "Requirement already satisfied: joblib in /usr/local/lib/python3.10/dist-packages (1.2.0)\n"
          ]
        }
      ]
    },
    {
      "cell_type": "code",
      "execution_count": null,
      "metadata": {
        "id": "xvNqWSM5i0Iq"
      },
      "outputs": [],
      "source": [
        "import pandas as pd\n",
        "import numpy as np\n",
        "import matplotlib.pyplot as plt\n",
        "from sklearn.preprocessing import MinMaxScaler\n",
        "from statsmodels.tsa.arima.model import ARIMA\n",
        "from sklearn.model_selection import train_test_split\n",
        "import statsmodels.api as sm\n",
        "from sklearn.metrics import mean_squared_error\n",
        "from datetime import datetime\n",
        "from sklearn.linear_model import LinearRegression\n",
        "from sklearn.metrics import r2_score\n",
        "from sklearn.neighbors import KNeighborsRegressor\n",
        "from sklearn.svm import SVR\n",
        "from sklearn.metrics import mean_absolute_error\n",
        "from sklearn.ensemble import GradientBoostingRegressor\n",
        "from xgboost import XGBRegressor\n",
        "import joblib\n",
        "from sklearn.metrics import accuracy_score, precision_score, recall_score, f1_score"
      ]
    },
    {
      "cell_type": "code",
      "execution_count": null,
      "metadata": {
        "id": "jMRDMSM1_3Zy"
      },
      "outputs": [],
      "source": [
        "df = pd.read_csv('Iotprojectdata.csv')"
      ]
    },
    {
      "cell_type": "markdown",
      "metadata": {
        "id": "pyp8-sidD7Qc"
      },
      "source": [
        "DATA AUGUMENTATION"
      ]
    },
    {
      "cell_type": "code",
      "execution_count": null,
      "metadata": {
        "id": "DVfLMfQpAC3O",
        "colab": {
          "base_uri": "https://localhost:8080/",
          "height": 423
        },
        "outputId": "95776e6c-124c-4e2e-969b-d3f7e57a1476"
      },
      "outputs": [
        {
          "output_type": "execute_result",
          "data": {
            "text/plain": [
              "     Entry_no Date_of_entry        Time             Temperature  \\\n",
              "0           1    17-04-2023  2:15:24 PM  Temperature = 32.34 *C   \n",
              "1           2    17-04-2023  2:15:24 PM  Temperature = 32.33 *C   \n",
              "2           3    17-04-2023  2:19:28 PM  Temperature = 32.33 *C   \n",
              "3           4    17-04-2023  2:19:31 PM  Temperature = 32.33 *C   \n",
              "4           5    17-04-2023  2:19:35 PM  Temperature = 32.33 *C   \n",
              "..        ...           ...         ...                     ...   \n",
              "411       412    21-04-2023  7:26:16 PM  Temperature = 32.25 *C   \n",
              "412       413    21-04-2023  7:26:18 PM  Temperature = 32.24 *C   \n",
              "413       414    21-04-2023  7:26:20 PM  Temperature = 32.24 *C   \n",
              "414       415    21-04-2023  7:26:22 PM  Temperature = 32.24 *C   \n",
              "415       416    21-04-2023  7:26:24 PM  Temperature = 32.24 *C   \n",
              "\n",
              "                    Pressure Humidity Rainfall_status  \n",
              "0    Pressure = 90995.19 hPa   54.00%     No Rainfall  \n",
              "1    Pressure = 90998.43 hPa   55.00%     No Rainfall  \n",
              "2    Pressure = 90998.92 hPa   55.00%     No Rainfall  \n",
              "3    Pressure = 91001.96 hPa   55.00%     No Rainfall  \n",
              "4    Pressure = 90998.42 hPa   55.00%     No Rainfall  \n",
              "..                       ...      ...             ...  \n",
              "411  Pressure = 91003.58 hPa   82.17%     No Rainfall  \n",
              "412  Pressure = 91001.22 hPa   80.66%     No Rainfall  \n",
              "413  Pressure = 91005.25 hPa   83.60%     No Rainfall  \n",
              "414  Pressure = 91005.57 hPa   80.36%     No Rainfall  \n",
              "415  Pressure = 91001.02 hPa   82.70%     No Rainfall  \n",
              "\n",
              "[416 rows x 7 columns]"
            ],
            "text/html": [
              "\n",
              "  <div id=\"df-63692cc0-f5c1-41e7-aba7-c88cd2bc1bfa\">\n",
              "    <div class=\"colab-df-container\">\n",
              "      <div>\n",
              "<style scoped>\n",
              "    .dataframe tbody tr th:only-of-type {\n",
              "        vertical-align: middle;\n",
              "    }\n",
              "\n",
              "    .dataframe tbody tr th {\n",
              "        vertical-align: top;\n",
              "    }\n",
              "\n",
              "    .dataframe thead th {\n",
              "        text-align: right;\n",
              "    }\n",
              "</style>\n",
              "<table border=\"1\" class=\"dataframe\">\n",
              "  <thead>\n",
              "    <tr style=\"text-align: right;\">\n",
              "      <th></th>\n",
              "      <th>Entry_no</th>\n",
              "      <th>Date_of_entry</th>\n",
              "      <th>Time</th>\n",
              "      <th>Temperature</th>\n",
              "      <th>Pressure</th>\n",
              "      <th>Humidity</th>\n",
              "      <th>Rainfall_status</th>\n",
              "    </tr>\n",
              "  </thead>\n",
              "  <tbody>\n",
              "    <tr>\n",
              "      <th>0</th>\n",
              "      <td>1</td>\n",
              "      <td>17-04-2023</td>\n",
              "      <td>2:15:24 PM</td>\n",
              "      <td>Temperature = 32.34 *C</td>\n",
              "      <td>Pressure = 90995.19 hPa</td>\n",
              "      <td>54.00%</td>\n",
              "      <td>No Rainfall</td>\n",
              "    </tr>\n",
              "    <tr>\n",
              "      <th>1</th>\n",
              "      <td>2</td>\n",
              "      <td>17-04-2023</td>\n",
              "      <td>2:15:24 PM</td>\n",
              "      <td>Temperature = 32.33 *C</td>\n",
              "      <td>Pressure = 90998.43 hPa</td>\n",
              "      <td>55.00%</td>\n",
              "      <td>No Rainfall</td>\n",
              "    </tr>\n",
              "    <tr>\n",
              "      <th>2</th>\n",
              "      <td>3</td>\n",
              "      <td>17-04-2023</td>\n",
              "      <td>2:19:28 PM</td>\n",
              "      <td>Temperature = 32.33 *C</td>\n",
              "      <td>Pressure = 90998.92 hPa</td>\n",
              "      <td>55.00%</td>\n",
              "      <td>No Rainfall</td>\n",
              "    </tr>\n",
              "    <tr>\n",
              "      <th>3</th>\n",
              "      <td>4</td>\n",
              "      <td>17-04-2023</td>\n",
              "      <td>2:19:31 PM</td>\n",
              "      <td>Temperature = 32.33 *C</td>\n",
              "      <td>Pressure = 91001.96 hPa</td>\n",
              "      <td>55.00%</td>\n",
              "      <td>No Rainfall</td>\n",
              "    </tr>\n",
              "    <tr>\n",
              "      <th>4</th>\n",
              "      <td>5</td>\n",
              "      <td>17-04-2023</td>\n",
              "      <td>2:19:35 PM</td>\n",
              "      <td>Temperature = 32.33 *C</td>\n",
              "      <td>Pressure = 90998.42 hPa</td>\n",
              "      <td>55.00%</td>\n",
              "      <td>No Rainfall</td>\n",
              "    </tr>\n",
              "    <tr>\n",
              "      <th>...</th>\n",
              "      <td>...</td>\n",
              "      <td>...</td>\n",
              "      <td>...</td>\n",
              "      <td>...</td>\n",
              "      <td>...</td>\n",
              "      <td>...</td>\n",
              "      <td>...</td>\n",
              "    </tr>\n",
              "    <tr>\n",
              "      <th>411</th>\n",
              "      <td>412</td>\n",
              "      <td>21-04-2023</td>\n",
              "      <td>7:26:16 PM</td>\n",
              "      <td>Temperature = 32.25 *C</td>\n",
              "      <td>Pressure = 91003.58 hPa</td>\n",
              "      <td>82.17%</td>\n",
              "      <td>No Rainfall</td>\n",
              "    </tr>\n",
              "    <tr>\n",
              "      <th>412</th>\n",
              "      <td>413</td>\n",
              "      <td>21-04-2023</td>\n",
              "      <td>7:26:18 PM</td>\n",
              "      <td>Temperature = 32.24 *C</td>\n",
              "      <td>Pressure = 91001.22 hPa</td>\n",
              "      <td>80.66%</td>\n",
              "      <td>No Rainfall</td>\n",
              "    </tr>\n",
              "    <tr>\n",
              "      <th>413</th>\n",
              "      <td>414</td>\n",
              "      <td>21-04-2023</td>\n",
              "      <td>7:26:20 PM</td>\n",
              "      <td>Temperature = 32.24 *C</td>\n",
              "      <td>Pressure = 91005.25 hPa</td>\n",
              "      <td>83.60%</td>\n",
              "      <td>No Rainfall</td>\n",
              "    </tr>\n",
              "    <tr>\n",
              "      <th>414</th>\n",
              "      <td>415</td>\n",
              "      <td>21-04-2023</td>\n",
              "      <td>7:26:22 PM</td>\n",
              "      <td>Temperature = 32.24 *C</td>\n",
              "      <td>Pressure = 91005.57 hPa</td>\n",
              "      <td>80.36%</td>\n",
              "      <td>No Rainfall</td>\n",
              "    </tr>\n",
              "    <tr>\n",
              "      <th>415</th>\n",
              "      <td>416</td>\n",
              "      <td>21-04-2023</td>\n",
              "      <td>7:26:24 PM</td>\n",
              "      <td>Temperature = 32.24 *C</td>\n",
              "      <td>Pressure = 91001.02 hPa</td>\n",
              "      <td>82.70%</td>\n",
              "      <td>No Rainfall</td>\n",
              "    </tr>\n",
              "  </tbody>\n",
              "</table>\n",
              "<p>416 rows × 7 columns</p>\n",
              "</div>\n",
              "      <button class=\"colab-df-convert\" onclick=\"convertToInteractive('df-63692cc0-f5c1-41e7-aba7-c88cd2bc1bfa')\"\n",
              "              title=\"Convert this dataframe to an interactive table.\"\n",
              "              style=\"display:none;\">\n",
              "        \n",
              "  <svg xmlns=\"http://www.w3.org/2000/svg\" height=\"24px\"viewBox=\"0 0 24 24\"\n",
              "       width=\"24px\">\n",
              "    <path d=\"M0 0h24v24H0V0z\" fill=\"none\"/>\n",
              "    <path d=\"M18.56 5.44l.94 2.06.94-2.06 2.06-.94-2.06-.94-.94-2.06-.94 2.06-2.06.94zm-11 1L8.5 8.5l.94-2.06 2.06-.94-2.06-.94L8.5 2.5l-.94 2.06-2.06.94zm10 10l.94 2.06.94-2.06 2.06-.94-2.06-.94-.94-2.06-.94 2.06-2.06.94z\"/><path d=\"M17.41 7.96l-1.37-1.37c-.4-.4-.92-.59-1.43-.59-.52 0-1.04.2-1.43.59L10.3 9.45l-7.72 7.72c-.78.78-.78 2.05 0 2.83L4 21.41c.39.39.9.59 1.41.59.51 0 1.02-.2 1.41-.59l7.78-7.78 2.81-2.81c.8-.78.8-2.07 0-2.86zM5.41 20L4 18.59l7.72-7.72 1.47 1.35L5.41 20z\"/>\n",
              "  </svg>\n",
              "      </button>\n",
              "      \n",
              "  <style>\n",
              "    .colab-df-container {\n",
              "      display:flex;\n",
              "      flex-wrap:wrap;\n",
              "      gap: 12px;\n",
              "    }\n",
              "\n",
              "    .colab-df-convert {\n",
              "      background-color: #E8F0FE;\n",
              "      border: none;\n",
              "      border-radius: 50%;\n",
              "      cursor: pointer;\n",
              "      display: none;\n",
              "      fill: #1967D2;\n",
              "      height: 32px;\n",
              "      padding: 0 0 0 0;\n",
              "      width: 32px;\n",
              "    }\n",
              "\n",
              "    .colab-df-convert:hover {\n",
              "      background-color: #E2EBFA;\n",
              "      box-shadow: 0px 1px 2px rgba(60, 64, 67, 0.3), 0px 1px 3px 1px rgba(60, 64, 67, 0.15);\n",
              "      fill: #174EA6;\n",
              "    }\n",
              "\n",
              "    [theme=dark] .colab-df-convert {\n",
              "      background-color: #3B4455;\n",
              "      fill: #D2E3FC;\n",
              "    }\n",
              "\n",
              "    [theme=dark] .colab-df-convert:hover {\n",
              "      background-color: #434B5C;\n",
              "      box-shadow: 0px 1px 3px 1px rgba(0, 0, 0, 0.15);\n",
              "      filter: drop-shadow(0px 1px 2px rgba(0, 0, 0, 0.3));\n",
              "      fill: #FFFFFF;\n",
              "    }\n",
              "  </style>\n",
              "\n",
              "      <script>\n",
              "        const buttonEl =\n",
              "          document.querySelector('#df-63692cc0-f5c1-41e7-aba7-c88cd2bc1bfa button.colab-df-convert');\n",
              "        buttonEl.style.display =\n",
              "          google.colab.kernel.accessAllowed ? 'block' : 'none';\n",
              "\n",
              "        async function convertToInteractive(key) {\n",
              "          const element = document.querySelector('#df-63692cc0-f5c1-41e7-aba7-c88cd2bc1bfa');\n",
              "          const dataTable =\n",
              "            await google.colab.kernel.invokeFunction('convertToInteractive',\n",
              "                                                     [key], {});\n",
              "          if (!dataTable) return;\n",
              "\n",
              "          const docLinkHtml = 'Like what you see? Visit the ' +\n",
              "            '<a target=\"_blank\" href=https://colab.research.google.com/notebooks/data_table.ipynb>data table notebook</a>'\n",
              "            + ' to learn more about interactive tables.';\n",
              "          element.innerHTML = '';\n",
              "          dataTable['output_type'] = 'display_data';\n",
              "          await google.colab.output.renderOutput(dataTable, element);\n",
              "          const docLink = document.createElement('div');\n",
              "          docLink.innerHTML = docLinkHtml;\n",
              "          element.appendChild(docLink);\n",
              "        }\n",
              "      </script>\n",
              "    </div>\n",
              "  </div>\n",
              "  "
            ]
          },
          "metadata": {},
          "execution_count": 44
        }
      ],
      "source": [
        "df"
      ]
    },
    {
      "cell_type": "code",
      "execution_count": null,
      "metadata": {
        "id": "uC_AZUqAAFJ2"
      },
      "outputs": [],
      "source": [
        "sample_df = df.sample(frac=0.5, replace=True, random_state=1)"
      ]
    },
    {
      "cell_type": "code",
      "execution_count": null,
      "metadata": {
        "id": "lX2U95ngByM6"
      },
      "outputs": [],
      "source": [
        "new_df = pd.concat([df, sample_df])\n"
      ]
    },
    {
      "cell_type": "code",
      "execution_count": null,
      "metadata": {
        "id": "Lhahq8opB1O7"
      },
      "outputs": [],
      "source": [
        "sample_df2 = df.sample(frac=0.3, replace=True, random_state=2)\n",
        "new_df = pd.concat([new_df, sample_df2])\n",
        "\n",
        "sample_df3 = df.sample(frac=0.2, replace=True, random_state=3)\n",
        "new_df = pd.concat([new_df, sample_df3])"
      ]
    },
    {
      "cell_type": "code",
      "execution_count": null,
      "metadata": {
        "id": "dsMmsYJ4B5Xs"
      },
      "outputs": [],
      "source": [
        "sample_df4 = df.sample(frac=0.5, replace=True, random_state=4)\n",
        "new_df = pd.concat([new_df, sample_df4])\n",
        "\n",
        "sample_df5 = df.sample(frac=0.3, replace=True, random_state=5)\n",
        "new_df = pd.concat([new_df, sample_df5])\n",
        "\n",
        "sample_df6 = df.sample(frac=0.2, replace=True, random_state=6)\n",
        "new_df = pd.concat([new_df, sample_df6])"
      ]
    },
    {
      "cell_type": "code",
      "execution_count": null,
      "metadata": {
        "id": "VutXscmDB9xF"
      },
      "outputs": [],
      "source": [
        "new_df.to_csv('augmented1_dataset.csv', index=False)"
      ]
    },
    {
      "cell_type": "markdown",
      "metadata": {
        "id": "H1javbb-EAhp"
      },
      "source": [
        "NEW DATASET"
      ]
    },
    {
      "cell_type": "code",
      "execution_count": null,
      "metadata": {
        "id": "l787iWJbB_vr"
      },
      "outputs": [],
      "source": [
        "df1 = pd.read_csv('augmented1_dataset.csv')"
      ]
    },
    {
      "cell_type": "code",
      "execution_count": null,
      "metadata": {
        "id": "TaF3_KAOCqrt",
        "colab": {
          "base_uri": "https://localhost:8080/",
          "height": 423
        },
        "outputId": "6d27d6f5-6a95-4cc5-e634-7104e2b673bc"
      },
      "outputs": [
        {
          "output_type": "execute_result",
          "data": {
            "text/plain": [
              "      Entry_no Date_of_entry         Time              Temperature  \\\n",
              "0            1    17-04-2023   2:15:24 PM   Temperature = 32.34 *C   \n",
              "1            2    17-04-2023   2:15:24 PM   Temperature = 32.33 *C   \n",
              "2            3    17-04-2023   2:19:28 PM   Temperature = 32.33 *C   \n",
              "3            4    17-04-2023   2:19:31 PM   Temperature = 32.33 *C   \n",
              "4            5    17-04-2023   2:19:35 PM   Temperature = 32.33 *C   \n",
              "...        ...           ...          ...                      ...   \n",
              "1243       130    18-04-2023  11:45:04 AM   Temperature = 30.68 *C   \n",
              "1244        10    17-04-2023   2:19:39 PM   Temperature = 32.32 *C   \n",
              "1245       125    18-04-2023  11:44:54 AM   Temperature = 30.27 *C   \n",
              "1246       102    18-04-2023  11:44:08 AM   Temperature = 30.27 *C   \n",
              "1247        43    17-04-2023   2:22:43 PM  Temperature = 179.88 *C   \n",
              "\n",
              "                     Pressure Humidity Rainfall_status  \n",
              "0     Pressure = 90995.19 hPa   54.00%     No Rainfall  \n",
              "1     Pressure = 90998.43 hPa   55.00%     No Rainfall  \n",
              "2     Pressure = 90998.92 hPa   55.00%     No Rainfall  \n",
              "3     Pressure = 91001.96 hPa   55.00%     No Rainfall  \n",
              "4     Pressure = 90998.42 hPa   55.00%     No Rainfall  \n",
              "...                       ...      ...             ...  \n",
              "1243  Pressure = -9062.92 hPa   73.00%     No Rainfall  \n",
              "1244  Pressure = 91001.24 hPa   49.00%     No Rainfall  \n",
              "1245  Pressure = 91000.63 hPa   72.64%     No Rainfall  \n",
              "1246  Pressure = 90998.14 hPa   73.00%     No Rainfall  \n",
              "1247  Pressure = -9062.92 hPa   51.00%     No Rainfall  \n",
              "\n",
              "[1248 rows x 7 columns]"
            ],
            "text/html": [
              "\n",
              "  <div id=\"df-25bc1697-c89b-47d7-adb3-b500ef7c9690\">\n",
              "    <div class=\"colab-df-container\">\n",
              "      <div>\n",
              "<style scoped>\n",
              "    .dataframe tbody tr th:only-of-type {\n",
              "        vertical-align: middle;\n",
              "    }\n",
              "\n",
              "    .dataframe tbody tr th {\n",
              "        vertical-align: top;\n",
              "    }\n",
              "\n",
              "    .dataframe thead th {\n",
              "        text-align: right;\n",
              "    }\n",
              "</style>\n",
              "<table border=\"1\" class=\"dataframe\">\n",
              "  <thead>\n",
              "    <tr style=\"text-align: right;\">\n",
              "      <th></th>\n",
              "      <th>Entry_no</th>\n",
              "      <th>Date_of_entry</th>\n",
              "      <th>Time</th>\n",
              "      <th>Temperature</th>\n",
              "      <th>Pressure</th>\n",
              "      <th>Humidity</th>\n",
              "      <th>Rainfall_status</th>\n",
              "    </tr>\n",
              "  </thead>\n",
              "  <tbody>\n",
              "    <tr>\n",
              "      <th>0</th>\n",
              "      <td>1</td>\n",
              "      <td>17-04-2023</td>\n",
              "      <td>2:15:24 PM</td>\n",
              "      <td>Temperature = 32.34 *C</td>\n",
              "      <td>Pressure = 90995.19 hPa</td>\n",
              "      <td>54.00%</td>\n",
              "      <td>No Rainfall</td>\n",
              "    </tr>\n",
              "    <tr>\n",
              "      <th>1</th>\n",
              "      <td>2</td>\n",
              "      <td>17-04-2023</td>\n",
              "      <td>2:15:24 PM</td>\n",
              "      <td>Temperature = 32.33 *C</td>\n",
              "      <td>Pressure = 90998.43 hPa</td>\n",
              "      <td>55.00%</td>\n",
              "      <td>No Rainfall</td>\n",
              "    </tr>\n",
              "    <tr>\n",
              "      <th>2</th>\n",
              "      <td>3</td>\n",
              "      <td>17-04-2023</td>\n",
              "      <td>2:19:28 PM</td>\n",
              "      <td>Temperature = 32.33 *C</td>\n",
              "      <td>Pressure = 90998.92 hPa</td>\n",
              "      <td>55.00%</td>\n",
              "      <td>No Rainfall</td>\n",
              "    </tr>\n",
              "    <tr>\n",
              "      <th>3</th>\n",
              "      <td>4</td>\n",
              "      <td>17-04-2023</td>\n",
              "      <td>2:19:31 PM</td>\n",
              "      <td>Temperature = 32.33 *C</td>\n",
              "      <td>Pressure = 91001.96 hPa</td>\n",
              "      <td>55.00%</td>\n",
              "      <td>No Rainfall</td>\n",
              "    </tr>\n",
              "    <tr>\n",
              "      <th>4</th>\n",
              "      <td>5</td>\n",
              "      <td>17-04-2023</td>\n",
              "      <td>2:19:35 PM</td>\n",
              "      <td>Temperature = 32.33 *C</td>\n",
              "      <td>Pressure = 90998.42 hPa</td>\n",
              "      <td>55.00%</td>\n",
              "      <td>No Rainfall</td>\n",
              "    </tr>\n",
              "    <tr>\n",
              "      <th>...</th>\n",
              "      <td>...</td>\n",
              "      <td>...</td>\n",
              "      <td>...</td>\n",
              "      <td>...</td>\n",
              "      <td>...</td>\n",
              "      <td>...</td>\n",
              "      <td>...</td>\n",
              "    </tr>\n",
              "    <tr>\n",
              "      <th>1243</th>\n",
              "      <td>130</td>\n",
              "      <td>18-04-2023</td>\n",
              "      <td>11:45:04 AM</td>\n",
              "      <td>Temperature = 30.68 *C</td>\n",
              "      <td>Pressure = -9062.92 hPa</td>\n",
              "      <td>73.00%</td>\n",
              "      <td>No Rainfall</td>\n",
              "    </tr>\n",
              "    <tr>\n",
              "      <th>1244</th>\n",
              "      <td>10</td>\n",
              "      <td>17-04-2023</td>\n",
              "      <td>2:19:39 PM</td>\n",
              "      <td>Temperature = 32.32 *C</td>\n",
              "      <td>Pressure = 91001.24 hPa</td>\n",
              "      <td>49.00%</td>\n",
              "      <td>No Rainfall</td>\n",
              "    </tr>\n",
              "    <tr>\n",
              "      <th>1245</th>\n",
              "      <td>125</td>\n",
              "      <td>18-04-2023</td>\n",
              "      <td>11:44:54 AM</td>\n",
              "      <td>Temperature = 30.27 *C</td>\n",
              "      <td>Pressure = 91000.63 hPa</td>\n",
              "      <td>72.64%</td>\n",
              "      <td>No Rainfall</td>\n",
              "    </tr>\n",
              "    <tr>\n",
              "      <th>1246</th>\n",
              "      <td>102</td>\n",
              "      <td>18-04-2023</td>\n",
              "      <td>11:44:08 AM</td>\n",
              "      <td>Temperature = 30.27 *C</td>\n",
              "      <td>Pressure = 90998.14 hPa</td>\n",
              "      <td>73.00%</td>\n",
              "      <td>No Rainfall</td>\n",
              "    </tr>\n",
              "    <tr>\n",
              "      <th>1247</th>\n",
              "      <td>43</td>\n",
              "      <td>17-04-2023</td>\n",
              "      <td>2:22:43 PM</td>\n",
              "      <td>Temperature = 179.88 *C</td>\n",
              "      <td>Pressure = -9062.92 hPa</td>\n",
              "      <td>51.00%</td>\n",
              "      <td>No Rainfall</td>\n",
              "    </tr>\n",
              "  </tbody>\n",
              "</table>\n",
              "<p>1248 rows × 7 columns</p>\n",
              "</div>\n",
              "      <button class=\"colab-df-convert\" onclick=\"convertToInteractive('df-25bc1697-c89b-47d7-adb3-b500ef7c9690')\"\n",
              "              title=\"Convert this dataframe to an interactive table.\"\n",
              "              style=\"display:none;\">\n",
              "        \n",
              "  <svg xmlns=\"http://www.w3.org/2000/svg\" height=\"24px\"viewBox=\"0 0 24 24\"\n",
              "       width=\"24px\">\n",
              "    <path d=\"M0 0h24v24H0V0z\" fill=\"none\"/>\n",
              "    <path d=\"M18.56 5.44l.94 2.06.94-2.06 2.06-.94-2.06-.94-.94-2.06-.94 2.06-2.06.94zm-11 1L8.5 8.5l.94-2.06 2.06-.94-2.06-.94L8.5 2.5l-.94 2.06-2.06.94zm10 10l.94 2.06.94-2.06 2.06-.94-2.06-.94-.94-2.06-.94 2.06-2.06.94z\"/><path d=\"M17.41 7.96l-1.37-1.37c-.4-.4-.92-.59-1.43-.59-.52 0-1.04.2-1.43.59L10.3 9.45l-7.72 7.72c-.78.78-.78 2.05 0 2.83L4 21.41c.39.39.9.59 1.41.59.51 0 1.02-.2 1.41-.59l7.78-7.78 2.81-2.81c.8-.78.8-2.07 0-2.86zM5.41 20L4 18.59l7.72-7.72 1.47 1.35L5.41 20z\"/>\n",
              "  </svg>\n",
              "      </button>\n",
              "      \n",
              "  <style>\n",
              "    .colab-df-container {\n",
              "      display:flex;\n",
              "      flex-wrap:wrap;\n",
              "      gap: 12px;\n",
              "    }\n",
              "\n",
              "    .colab-df-convert {\n",
              "      background-color: #E8F0FE;\n",
              "      border: none;\n",
              "      border-radius: 50%;\n",
              "      cursor: pointer;\n",
              "      display: none;\n",
              "      fill: #1967D2;\n",
              "      height: 32px;\n",
              "      padding: 0 0 0 0;\n",
              "      width: 32px;\n",
              "    }\n",
              "\n",
              "    .colab-df-convert:hover {\n",
              "      background-color: #E2EBFA;\n",
              "      box-shadow: 0px 1px 2px rgba(60, 64, 67, 0.3), 0px 1px 3px 1px rgba(60, 64, 67, 0.15);\n",
              "      fill: #174EA6;\n",
              "    }\n",
              "\n",
              "    [theme=dark] .colab-df-convert {\n",
              "      background-color: #3B4455;\n",
              "      fill: #D2E3FC;\n",
              "    }\n",
              "\n",
              "    [theme=dark] .colab-df-convert:hover {\n",
              "      background-color: #434B5C;\n",
              "      box-shadow: 0px 1px 3px 1px rgba(0, 0, 0, 0.15);\n",
              "      filter: drop-shadow(0px 1px 2px rgba(0, 0, 0, 0.3));\n",
              "      fill: #FFFFFF;\n",
              "    }\n",
              "  </style>\n",
              "\n",
              "      <script>\n",
              "        const buttonEl =\n",
              "          document.querySelector('#df-25bc1697-c89b-47d7-adb3-b500ef7c9690 button.colab-df-convert');\n",
              "        buttonEl.style.display =\n",
              "          google.colab.kernel.accessAllowed ? 'block' : 'none';\n",
              "\n",
              "        async function convertToInteractive(key) {\n",
              "          const element = document.querySelector('#df-25bc1697-c89b-47d7-adb3-b500ef7c9690');\n",
              "          const dataTable =\n",
              "            await google.colab.kernel.invokeFunction('convertToInteractive',\n",
              "                                                     [key], {});\n",
              "          if (!dataTable) return;\n",
              "\n",
              "          const docLinkHtml = 'Like what you see? Visit the ' +\n",
              "            '<a target=\"_blank\" href=https://colab.research.google.com/notebooks/data_table.ipynb>data table notebook</a>'\n",
              "            + ' to learn more about interactive tables.';\n",
              "          element.innerHTML = '';\n",
              "          dataTable['output_type'] = 'display_data';\n",
              "          await google.colab.output.renderOutput(dataTable, element);\n",
              "          const docLink = document.createElement('div');\n",
              "          docLink.innerHTML = docLinkHtml;\n",
              "          element.appendChild(docLink);\n",
              "        }\n",
              "      </script>\n",
              "    </div>\n",
              "  </div>\n",
              "  "
            ]
          },
          "metadata": {},
          "execution_count": 51
        }
      ],
      "source": [
        "df1"
      ]
    },
    {
      "cell_type": "code",
      "execution_count": null,
      "metadata": {
        "id": "x0TL5QSICvbP"
      },
      "outputs": [],
      "source": [
        "df1 = df1.drop('Entry_no', axis=1)\n",
        "\n",
        "# Save the updated dataset\n",
        "df1.to_csv('updated_dataset.csv', index=False)"
      ]
    },
    {
      "cell_type": "code",
      "execution_count": null,
      "metadata": {
        "id": "sUGg-c9EDQyk",
        "colab": {
          "base_uri": "https://localhost:8080/",
          "height": 423
        },
        "outputId": "e4d6d633-8c1c-4734-8275-bf372efaaf78"
      },
      "outputs": [
        {
          "output_type": "execute_result",
          "data": {
            "text/plain": [
              "     Date_of_entry         Time              Temperature  \\\n",
              "0       17-04-2023   2:15:24 PM   Temperature = 32.34 *C   \n",
              "1       17-04-2023   2:15:24 PM   Temperature = 32.33 *C   \n",
              "2       17-04-2023   2:19:28 PM   Temperature = 32.33 *C   \n",
              "3       17-04-2023   2:19:31 PM   Temperature = 32.33 *C   \n",
              "4       17-04-2023   2:19:35 PM   Temperature = 32.33 *C   \n",
              "...            ...          ...                      ...   \n",
              "1243    18-04-2023  11:45:04 AM   Temperature = 30.68 *C   \n",
              "1244    17-04-2023   2:19:39 PM   Temperature = 32.32 *C   \n",
              "1245    18-04-2023  11:44:54 AM   Temperature = 30.27 *C   \n",
              "1246    18-04-2023  11:44:08 AM   Temperature = 30.27 *C   \n",
              "1247    17-04-2023   2:22:43 PM  Temperature = 179.88 *C   \n",
              "\n",
              "                     Pressure Humidity Rainfall_status  \n",
              "0     Pressure = 90995.19 hPa   54.00%     No Rainfall  \n",
              "1     Pressure = 90998.43 hPa   55.00%     No Rainfall  \n",
              "2     Pressure = 90998.92 hPa   55.00%     No Rainfall  \n",
              "3     Pressure = 91001.96 hPa   55.00%     No Rainfall  \n",
              "4     Pressure = 90998.42 hPa   55.00%     No Rainfall  \n",
              "...                       ...      ...             ...  \n",
              "1243  Pressure = -9062.92 hPa   73.00%     No Rainfall  \n",
              "1244  Pressure = 91001.24 hPa   49.00%     No Rainfall  \n",
              "1245  Pressure = 91000.63 hPa   72.64%     No Rainfall  \n",
              "1246  Pressure = 90998.14 hPa   73.00%     No Rainfall  \n",
              "1247  Pressure = -9062.92 hPa   51.00%     No Rainfall  \n",
              "\n",
              "[1248 rows x 6 columns]"
            ],
            "text/html": [
              "\n",
              "  <div id=\"df-768a4ab6-c29f-4fde-bd27-bc64f9d7a376\">\n",
              "    <div class=\"colab-df-container\">\n",
              "      <div>\n",
              "<style scoped>\n",
              "    .dataframe tbody tr th:only-of-type {\n",
              "        vertical-align: middle;\n",
              "    }\n",
              "\n",
              "    .dataframe tbody tr th {\n",
              "        vertical-align: top;\n",
              "    }\n",
              "\n",
              "    .dataframe thead th {\n",
              "        text-align: right;\n",
              "    }\n",
              "</style>\n",
              "<table border=\"1\" class=\"dataframe\">\n",
              "  <thead>\n",
              "    <tr style=\"text-align: right;\">\n",
              "      <th></th>\n",
              "      <th>Date_of_entry</th>\n",
              "      <th>Time</th>\n",
              "      <th>Temperature</th>\n",
              "      <th>Pressure</th>\n",
              "      <th>Humidity</th>\n",
              "      <th>Rainfall_status</th>\n",
              "    </tr>\n",
              "  </thead>\n",
              "  <tbody>\n",
              "    <tr>\n",
              "      <th>0</th>\n",
              "      <td>17-04-2023</td>\n",
              "      <td>2:15:24 PM</td>\n",
              "      <td>Temperature = 32.34 *C</td>\n",
              "      <td>Pressure = 90995.19 hPa</td>\n",
              "      <td>54.00%</td>\n",
              "      <td>No Rainfall</td>\n",
              "    </tr>\n",
              "    <tr>\n",
              "      <th>1</th>\n",
              "      <td>17-04-2023</td>\n",
              "      <td>2:15:24 PM</td>\n",
              "      <td>Temperature = 32.33 *C</td>\n",
              "      <td>Pressure = 90998.43 hPa</td>\n",
              "      <td>55.00%</td>\n",
              "      <td>No Rainfall</td>\n",
              "    </tr>\n",
              "    <tr>\n",
              "      <th>2</th>\n",
              "      <td>17-04-2023</td>\n",
              "      <td>2:19:28 PM</td>\n",
              "      <td>Temperature = 32.33 *C</td>\n",
              "      <td>Pressure = 90998.92 hPa</td>\n",
              "      <td>55.00%</td>\n",
              "      <td>No Rainfall</td>\n",
              "    </tr>\n",
              "    <tr>\n",
              "      <th>3</th>\n",
              "      <td>17-04-2023</td>\n",
              "      <td>2:19:31 PM</td>\n",
              "      <td>Temperature = 32.33 *C</td>\n",
              "      <td>Pressure = 91001.96 hPa</td>\n",
              "      <td>55.00%</td>\n",
              "      <td>No Rainfall</td>\n",
              "    </tr>\n",
              "    <tr>\n",
              "      <th>4</th>\n",
              "      <td>17-04-2023</td>\n",
              "      <td>2:19:35 PM</td>\n",
              "      <td>Temperature = 32.33 *C</td>\n",
              "      <td>Pressure = 90998.42 hPa</td>\n",
              "      <td>55.00%</td>\n",
              "      <td>No Rainfall</td>\n",
              "    </tr>\n",
              "    <tr>\n",
              "      <th>...</th>\n",
              "      <td>...</td>\n",
              "      <td>...</td>\n",
              "      <td>...</td>\n",
              "      <td>...</td>\n",
              "      <td>...</td>\n",
              "      <td>...</td>\n",
              "    </tr>\n",
              "    <tr>\n",
              "      <th>1243</th>\n",
              "      <td>18-04-2023</td>\n",
              "      <td>11:45:04 AM</td>\n",
              "      <td>Temperature = 30.68 *C</td>\n",
              "      <td>Pressure = -9062.92 hPa</td>\n",
              "      <td>73.00%</td>\n",
              "      <td>No Rainfall</td>\n",
              "    </tr>\n",
              "    <tr>\n",
              "      <th>1244</th>\n",
              "      <td>17-04-2023</td>\n",
              "      <td>2:19:39 PM</td>\n",
              "      <td>Temperature = 32.32 *C</td>\n",
              "      <td>Pressure = 91001.24 hPa</td>\n",
              "      <td>49.00%</td>\n",
              "      <td>No Rainfall</td>\n",
              "    </tr>\n",
              "    <tr>\n",
              "      <th>1245</th>\n",
              "      <td>18-04-2023</td>\n",
              "      <td>11:44:54 AM</td>\n",
              "      <td>Temperature = 30.27 *C</td>\n",
              "      <td>Pressure = 91000.63 hPa</td>\n",
              "      <td>72.64%</td>\n",
              "      <td>No Rainfall</td>\n",
              "    </tr>\n",
              "    <tr>\n",
              "      <th>1246</th>\n",
              "      <td>18-04-2023</td>\n",
              "      <td>11:44:08 AM</td>\n",
              "      <td>Temperature = 30.27 *C</td>\n",
              "      <td>Pressure = 90998.14 hPa</td>\n",
              "      <td>73.00%</td>\n",
              "      <td>No Rainfall</td>\n",
              "    </tr>\n",
              "    <tr>\n",
              "      <th>1247</th>\n",
              "      <td>17-04-2023</td>\n",
              "      <td>2:22:43 PM</td>\n",
              "      <td>Temperature = 179.88 *C</td>\n",
              "      <td>Pressure = -9062.92 hPa</td>\n",
              "      <td>51.00%</td>\n",
              "      <td>No Rainfall</td>\n",
              "    </tr>\n",
              "  </tbody>\n",
              "</table>\n",
              "<p>1248 rows × 6 columns</p>\n",
              "</div>\n",
              "      <button class=\"colab-df-convert\" onclick=\"convertToInteractive('df-768a4ab6-c29f-4fde-bd27-bc64f9d7a376')\"\n",
              "              title=\"Convert this dataframe to an interactive table.\"\n",
              "              style=\"display:none;\">\n",
              "        \n",
              "  <svg xmlns=\"http://www.w3.org/2000/svg\" height=\"24px\"viewBox=\"0 0 24 24\"\n",
              "       width=\"24px\">\n",
              "    <path d=\"M0 0h24v24H0V0z\" fill=\"none\"/>\n",
              "    <path d=\"M18.56 5.44l.94 2.06.94-2.06 2.06-.94-2.06-.94-.94-2.06-.94 2.06-2.06.94zm-11 1L8.5 8.5l.94-2.06 2.06-.94-2.06-.94L8.5 2.5l-.94 2.06-2.06.94zm10 10l.94 2.06.94-2.06 2.06-.94-2.06-.94-.94-2.06-.94 2.06-2.06.94z\"/><path d=\"M17.41 7.96l-1.37-1.37c-.4-.4-.92-.59-1.43-.59-.52 0-1.04.2-1.43.59L10.3 9.45l-7.72 7.72c-.78.78-.78 2.05 0 2.83L4 21.41c.39.39.9.59 1.41.59.51 0 1.02-.2 1.41-.59l7.78-7.78 2.81-2.81c.8-.78.8-2.07 0-2.86zM5.41 20L4 18.59l7.72-7.72 1.47 1.35L5.41 20z\"/>\n",
              "  </svg>\n",
              "      </button>\n",
              "      \n",
              "  <style>\n",
              "    .colab-df-container {\n",
              "      display:flex;\n",
              "      flex-wrap:wrap;\n",
              "      gap: 12px;\n",
              "    }\n",
              "\n",
              "    .colab-df-convert {\n",
              "      background-color: #E8F0FE;\n",
              "      border: none;\n",
              "      border-radius: 50%;\n",
              "      cursor: pointer;\n",
              "      display: none;\n",
              "      fill: #1967D2;\n",
              "      height: 32px;\n",
              "      padding: 0 0 0 0;\n",
              "      width: 32px;\n",
              "    }\n",
              "\n",
              "    .colab-df-convert:hover {\n",
              "      background-color: #E2EBFA;\n",
              "      box-shadow: 0px 1px 2px rgba(60, 64, 67, 0.3), 0px 1px 3px 1px rgba(60, 64, 67, 0.15);\n",
              "      fill: #174EA6;\n",
              "    }\n",
              "\n",
              "    [theme=dark] .colab-df-convert {\n",
              "      background-color: #3B4455;\n",
              "      fill: #D2E3FC;\n",
              "    }\n",
              "\n",
              "    [theme=dark] .colab-df-convert:hover {\n",
              "      background-color: #434B5C;\n",
              "      box-shadow: 0px 1px 3px 1px rgba(0, 0, 0, 0.15);\n",
              "      filter: drop-shadow(0px 1px 2px rgba(0, 0, 0, 0.3));\n",
              "      fill: #FFFFFF;\n",
              "    }\n",
              "  </style>\n",
              "\n",
              "      <script>\n",
              "        const buttonEl =\n",
              "          document.querySelector('#df-768a4ab6-c29f-4fde-bd27-bc64f9d7a376 button.colab-df-convert');\n",
              "        buttonEl.style.display =\n",
              "          google.colab.kernel.accessAllowed ? 'block' : 'none';\n",
              "\n",
              "        async function convertToInteractive(key) {\n",
              "          const element = document.querySelector('#df-768a4ab6-c29f-4fde-bd27-bc64f9d7a376');\n",
              "          const dataTable =\n",
              "            await google.colab.kernel.invokeFunction('convertToInteractive',\n",
              "                                                     [key], {});\n",
              "          if (!dataTable) return;\n",
              "\n",
              "          const docLinkHtml = 'Like what you see? Visit the ' +\n",
              "            '<a target=\"_blank\" href=https://colab.research.google.com/notebooks/data_table.ipynb>data table notebook</a>'\n",
              "            + ' to learn more about interactive tables.';\n",
              "          element.innerHTML = '';\n",
              "          dataTable['output_type'] = 'display_data';\n",
              "          await google.colab.output.renderOutput(dataTable, element);\n",
              "          const docLink = document.createElement('div');\n",
              "          docLink.innerHTML = docLinkHtml;\n",
              "          element.appendChild(docLink);\n",
              "        }\n",
              "      </script>\n",
              "    </div>\n",
              "  </div>\n",
              "  "
            ]
          },
          "metadata": {},
          "execution_count": 53
        }
      ],
      "source": [
        "df1"
      ]
    },
    {
      "cell_type": "markdown",
      "metadata": {
        "id": "3mGC9S8lFtJM"
      },
      "source": [
        "FINDING MISSING VALUES"
      ]
    },
    {
      "cell_type": "code",
      "execution_count": null,
      "metadata": {
        "id": "1AIzfXm8EdAa",
        "colab": {
          "base_uri": "https://localhost:8080/"
        },
        "outputId": "28377d0b-a6f2-4023-f837-d4bec38e331c"
      },
      "outputs": [
        {
          "output_type": "stream",
          "name": "stdout",
          "text": [
            "Missing Values:\n",
            "Date_of_entry      0\n",
            "Time               0\n",
            "Temperature        0\n",
            "Pressure           0\n",
            "Humidity           0\n",
            "Rainfall_status    0\n",
            "dtype: int64\n"
          ]
        }
      ],
      "source": [
        "print('Missing Values:')\n",
        "print(df1.isnull().sum())"
      ]
    },
    {
      "cell_type": "markdown",
      "metadata": {
        "id": "VUEIgc_CJdDN"
      },
      "source": [
        "Extracting only numerical values from column"
      ]
    },
    {
      "cell_type": "code",
      "execution_count": null,
      "metadata": {
        "id": "oLdFE6-yHngm",
        "colab": {
          "base_uri": "https://localhost:8080/"
        },
        "outputId": "af9bd51e-8175-434e-b703-4acc50a761bc"
      },
      "outputs": [
        {
          "output_type": "stream",
          "name": "stdout",
          "text": [
            "  Date_of_entry        Time  Temperature  Pressure  Humidity Rainfall_status\n",
            "0    17-04-2023  2:15:24 PM        32.34  90995.19      54.0     No Rainfall\n",
            "1    17-04-2023  2:15:24 PM        32.33  90998.43      55.0     No Rainfall\n",
            "2    17-04-2023  2:19:28 PM        32.33  90998.92      55.0     No Rainfall\n",
            "3    17-04-2023  2:19:31 PM        32.33  91001.96      55.0     No Rainfall\n",
            "4    17-04-2023  2:19:35 PM        32.33  90998.42      55.0     No Rainfall\n"
          ]
        }
      ],
      "source": [
        "# extract the numerical values from Temperature column\n",
        "df1['Temperature'] = df1['Temperature'].str.extract('(\\d+\\.?\\d*)', expand=False).astype(float)\n",
        "\n",
        "#extract the numerical values from Humidity column\n",
        "df1['Humidity'] = df1['Humidity'].str.extract('(\\d+\\.?\\d*)', expand=False).astype(float)\n",
        "\n",
        "# extract the numerical values from Pressure column\n",
        "df1['Pressure'] = df1['Pressure'].str.extract('(\\d+\\.?\\d*)', expand=False).astype(float)\n",
        "\n",
        "# print the updated dataframe\n",
        "print(df1.head())"
      ]
    },
    {
      "cell_type": "code",
      "source": [
        "# Convert the time column to datetime object\n",
        "df1['Time'] = pd.to_datetime(df1['Time'], format='%I:%M:%S %p')\n",
        "\n",
        "# Convert the time to 24-hour format\n",
        "df1['Time'] = df1['Time'].dt.strftime('%H:%M:%S')\n",
        "\n",
        "print(df1.head())"
      ],
      "metadata": {
        "id": "oHrWPoIlkr9R",
        "colab": {
          "base_uri": "https://localhost:8080/"
        },
        "outputId": "9cc8eec1-2be9-44dc-fa47-861a8703782f"
      },
      "execution_count": null,
      "outputs": [
        {
          "output_type": "stream",
          "name": "stdout",
          "text": [
            "  Date_of_entry      Time  Temperature  Pressure  Humidity Rainfall_status\n",
            "0    17-04-2023  14:15:24        32.34  90995.19      54.0     No Rainfall\n",
            "1    17-04-2023  14:15:24        32.33  90998.43      55.0     No Rainfall\n",
            "2    17-04-2023  14:19:28        32.33  90998.92      55.0     No Rainfall\n",
            "3    17-04-2023  14:19:31        32.33  91001.96      55.0     No Rainfall\n",
            "4    17-04-2023  14:19:35        32.33  90998.42      55.0     No Rainfall\n"
          ]
        }
      ]
    },
    {
      "cell_type": "markdown",
      "metadata": {
        "id": "kn6iHE4cJhaM"
      },
      "source": [
        "Converting categorical column rainfall to numerical column"
      ]
    },
    {
      "cell_type": "code",
      "execution_count": null,
      "metadata": {
        "id": "llYNgOfdbi4m",
        "colab": {
          "base_uri": "https://localhost:8080/"
        },
        "outputId": "0eb54c43-0ca1-429f-8c3e-cb4fe0b1ae6b"
      },
      "outputs": [
        {
          "output_type": "stream",
          "name": "stdout",
          "text": [
            "     Date_of_entry      Time  Temperature  Pressure  Humidity  Rainfall_status\n",
            "0       17-04-2023  14:15:24        32.34  90995.19     54.00                0\n",
            "1       17-04-2023  14:15:24        32.33  90998.43     55.00                0\n",
            "2       17-04-2023  14:19:28        32.33  90998.92     55.00                0\n",
            "3       17-04-2023  14:19:31        32.33  91001.96     55.00                0\n",
            "4       17-04-2023  14:19:35        32.33  90998.42     55.00                0\n",
            "...            ...       ...          ...       ...       ...              ...\n",
            "1243    18-04-2023  11:45:04        30.68   9062.92     73.00                0\n",
            "1244    17-04-2023  14:19:39        32.32  91001.24     49.00                0\n",
            "1245    18-04-2023  11:44:54        30.27  91000.63     72.64                0\n",
            "1246    18-04-2023  11:44:08        30.27  90998.14     73.00                0\n",
            "1247    17-04-2023  14:22:43       179.88   9062.92     51.00                0\n",
            "\n",
            "[1248 rows x 6 columns]\n"
          ]
        }
      ],
      "source": [
        "df1['Rainfall_status'] = df1['Rainfall_status'].replace({'No Rainfall': 0, 'Rainfall': 1})\n",
        "print(df1)"
      ]
    },
    {
      "cell_type": "code",
      "source": [
        "df1.to_csv('final_dataset.csv', index=False)"
      ],
      "metadata": {
        "id": "LgT914KtiY0d"
      },
      "execution_count": null,
      "outputs": []
    },
    {
      "cell_type": "code",
      "execution_count": null,
      "metadata": {
        "id": "U_02qWksgvgH",
        "colab": {
          "base_uri": "https://localhost:8080/",
          "height": 423
        },
        "outputId": "54c6d047-8173-41f1-b906-436aecd83ac7"
      },
      "outputs": [
        {
          "output_type": "execute_result",
          "data": {
            "text/plain": [
              "     Date_of_entry      Time  Temperature  Pressure  Humidity  Rainfall_status\n",
              "0       17-04-2023  14:15:24        32.34  90995.19     54.00                0\n",
              "1       17-04-2023  14:15:24        32.33  90998.43     55.00                0\n",
              "2       17-04-2023  14:19:28        32.33  90998.92     55.00                0\n",
              "3       17-04-2023  14:19:31        32.33  91001.96     55.00                0\n",
              "4       17-04-2023  14:19:35        32.33  90998.42     55.00                0\n",
              "...            ...       ...          ...       ...       ...              ...\n",
              "1243    18-04-2023  11:45:04        30.68   9062.92     73.00                0\n",
              "1244    17-04-2023  14:19:39        32.32  91001.24     49.00                0\n",
              "1245    18-04-2023  11:44:54        30.27  91000.63     72.64                0\n",
              "1246    18-04-2023  11:44:08        30.27  90998.14     73.00                0\n",
              "1247    17-04-2023  14:22:43       179.88   9062.92     51.00                0\n",
              "\n",
              "[1248 rows x 6 columns]"
            ],
            "text/html": [
              "\n",
              "  <div id=\"df-0712e4eb-c34a-419c-b92c-b0ef9ee1a0c0\">\n",
              "    <div class=\"colab-df-container\">\n",
              "      <div>\n",
              "<style scoped>\n",
              "    .dataframe tbody tr th:only-of-type {\n",
              "        vertical-align: middle;\n",
              "    }\n",
              "\n",
              "    .dataframe tbody tr th {\n",
              "        vertical-align: top;\n",
              "    }\n",
              "\n",
              "    .dataframe thead th {\n",
              "        text-align: right;\n",
              "    }\n",
              "</style>\n",
              "<table border=\"1\" class=\"dataframe\">\n",
              "  <thead>\n",
              "    <tr style=\"text-align: right;\">\n",
              "      <th></th>\n",
              "      <th>Date_of_entry</th>\n",
              "      <th>Time</th>\n",
              "      <th>Temperature</th>\n",
              "      <th>Pressure</th>\n",
              "      <th>Humidity</th>\n",
              "      <th>Rainfall_status</th>\n",
              "    </tr>\n",
              "  </thead>\n",
              "  <tbody>\n",
              "    <tr>\n",
              "      <th>0</th>\n",
              "      <td>17-04-2023</td>\n",
              "      <td>14:15:24</td>\n",
              "      <td>32.34</td>\n",
              "      <td>90995.19</td>\n",
              "      <td>54.00</td>\n",
              "      <td>0</td>\n",
              "    </tr>\n",
              "    <tr>\n",
              "      <th>1</th>\n",
              "      <td>17-04-2023</td>\n",
              "      <td>14:15:24</td>\n",
              "      <td>32.33</td>\n",
              "      <td>90998.43</td>\n",
              "      <td>55.00</td>\n",
              "      <td>0</td>\n",
              "    </tr>\n",
              "    <tr>\n",
              "      <th>2</th>\n",
              "      <td>17-04-2023</td>\n",
              "      <td>14:19:28</td>\n",
              "      <td>32.33</td>\n",
              "      <td>90998.92</td>\n",
              "      <td>55.00</td>\n",
              "      <td>0</td>\n",
              "    </tr>\n",
              "    <tr>\n",
              "      <th>3</th>\n",
              "      <td>17-04-2023</td>\n",
              "      <td>14:19:31</td>\n",
              "      <td>32.33</td>\n",
              "      <td>91001.96</td>\n",
              "      <td>55.00</td>\n",
              "      <td>0</td>\n",
              "    </tr>\n",
              "    <tr>\n",
              "      <th>4</th>\n",
              "      <td>17-04-2023</td>\n",
              "      <td>14:19:35</td>\n",
              "      <td>32.33</td>\n",
              "      <td>90998.42</td>\n",
              "      <td>55.00</td>\n",
              "      <td>0</td>\n",
              "    </tr>\n",
              "    <tr>\n",
              "      <th>...</th>\n",
              "      <td>...</td>\n",
              "      <td>...</td>\n",
              "      <td>...</td>\n",
              "      <td>...</td>\n",
              "      <td>...</td>\n",
              "      <td>...</td>\n",
              "    </tr>\n",
              "    <tr>\n",
              "      <th>1243</th>\n",
              "      <td>18-04-2023</td>\n",
              "      <td>11:45:04</td>\n",
              "      <td>30.68</td>\n",
              "      <td>9062.92</td>\n",
              "      <td>73.00</td>\n",
              "      <td>0</td>\n",
              "    </tr>\n",
              "    <tr>\n",
              "      <th>1244</th>\n",
              "      <td>17-04-2023</td>\n",
              "      <td>14:19:39</td>\n",
              "      <td>32.32</td>\n",
              "      <td>91001.24</td>\n",
              "      <td>49.00</td>\n",
              "      <td>0</td>\n",
              "    </tr>\n",
              "    <tr>\n",
              "      <th>1245</th>\n",
              "      <td>18-04-2023</td>\n",
              "      <td>11:44:54</td>\n",
              "      <td>30.27</td>\n",
              "      <td>91000.63</td>\n",
              "      <td>72.64</td>\n",
              "      <td>0</td>\n",
              "    </tr>\n",
              "    <tr>\n",
              "      <th>1246</th>\n",
              "      <td>18-04-2023</td>\n",
              "      <td>11:44:08</td>\n",
              "      <td>30.27</td>\n",
              "      <td>90998.14</td>\n",
              "      <td>73.00</td>\n",
              "      <td>0</td>\n",
              "    </tr>\n",
              "    <tr>\n",
              "      <th>1247</th>\n",
              "      <td>17-04-2023</td>\n",
              "      <td>14:22:43</td>\n",
              "      <td>179.88</td>\n",
              "      <td>9062.92</td>\n",
              "      <td>51.00</td>\n",
              "      <td>0</td>\n",
              "    </tr>\n",
              "  </tbody>\n",
              "</table>\n",
              "<p>1248 rows × 6 columns</p>\n",
              "</div>\n",
              "      <button class=\"colab-df-convert\" onclick=\"convertToInteractive('df-0712e4eb-c34a-419c-b92c-b0ef9ee1a0c0')\"\n",
              "              title=\"Convert this dataframe to an interactive table.\"\n",
              "              style=\"display:none;\">\n",
              "        \n",
              "  <svg xmlns=\"http://www.w3.org/2000/svg\" height=\"24px\"viewBox=\"0 0 24 24\"\n",
              "       width=\"24px\">\n",
              "    <path d=\"M0 0h24v24H0V0z\" fill=\"none\"/>\n",
              "    <path d=\"M18.56 5.44l.94 2.06.94-2.06 2.06-.94-2.06-.94-.94-2.06-.94 2.06-2.06.94zm-11 1L8.5 8.5l.94-2.06 2.06-.94-2.06-.94L8.5 2.5l-.94 2.06-2.06.94zm10 10l.94 2.06.94-2.06 2.06-.94-2.06-.94-.94-2.06-.94 2.06-2.06.94z\"/><path d=\"M17.41 7.96l-1.37-1.37c-.4-.4-.92-.59-1.43-.59-.52 0-1.04.2-1.43.59L10.3 9.45l-7.72 7.72c-.78.78-.78 2.05 0 2.83L4 21.41c.39.39.9.59 1.41.59.51 0 1.02-.2 1.41-.59l7.78-7.78 2.81-2.81c.8-.78.8-2.07 0-2.86zM5.41 20L4 18.59l7.72-7.72 1.47 1.35L5.41 20z\"/>\n",
              "  </svg>\n",
              "      </button>\n",
              "      \n",
              "  <style>\n",
              "    .colab-df-container {\n",
              "      display:flex;\n",
              "      flex-wrap:wrap;\n",
              "      gap: 12px;\n",
              "    }\n",
              "\n",
              "    .colab-df-convert {\n",
              "      background-color: #E8F0FE;\n",
              "      border: none;\n",
              "      border-radius: 50%;\n",
              "      cursor: pointer;\n",
              "      display: none;\n",
              "      fill: #1967D2;\n",
              "      height: 32px;\n",
              "      padding: 0 0 0 0;\n",
              "      width: 32px;\n",
              "    }\n",
              "\n",
              "    .colab-df-convert:hover {\n",
              "      background-color: #E2EBFA;\n",
              "      box-shadow: 0px 1px 2px rgba(60, 64, 67, 0.3), 0px 1px 3px 1px rgba(60, 64, 67, 0.15);\n",
              "      fill: #174EA6;\n",
              "    }\n",
              "\n",
              "    [theme=dark] .colab-df-convert {\n",
              "      background-color: #3B4455;\n",
              "      fill: #D2E3FC;\n",
              "    }\n",
              "\n",
              "    [theme=dark] .colab-df-convert:hover {\n",
              "      background-color: #434B5C;\n",
              "      box-shadow: 0px 1px 3px 1px rgba(0, 0, 0, 0.15);\n",
              "      filter: drop-shadow(0px 1px 2px rgba(0, 0, 0, 0.3));\n",
              "      fill: #FFFFFF;\n",
              "    }\n",
              "  </style>\n",
              "\n",
              "      <script>\n",
              "        const buttonEl =\n",
              "          document.querySelector('#df-0712e4eb-c34a-419c-b92c-b0ef9ee1a0c0 button.colab-df-convert');\n",
              "        buttonEl.style.display =\n",
              "          google.colab.kernel.accessAllowed ? 'block' : 'none';\n",
              "\n",
              "        async function convertToInteractive(key) {\n",
              "          const element = document.querySelector('#df-0712e4eb-c34a-419c-b92c-b0ef9ee1a0c0');\n",
              "          const dataTable =\n",
              "            await google.colab.kernel.invokeFunction('convertToInteractive',\n",
              "                                                     [key], {});\n",
              "          if (!dataTable) return;\n",
              "\n",
              "          const docLinkHtml = 'Like what you see? Visit the ' +\n",
              "            '<a target=\"_blank\" href=https://colab.research.google.com/notebooks/data_table.ipynb>data table notebook</a>'\n",
              "            + ' to learn more about interactive tables.';\n",
              "          element.innerHTML = '';\n",
              "          dataTable['output_type'] = 'display_data';\n",
              "          await google.colab.output.renderOutput(dataTable, element);\n",
              "          const docLink = document.createElement('div');\n",
              "          docLink.innerHTML = docLinkHtml;\n",
              "          element.appendChild(docLink);\n",
              "        }\n",
              "      </script>\n",
              "    </div>\n",
              "  </div>\n",
              "  "
            ]
          },
          "metadata": {},
          "execution_count": 59
        }
      ],
      "source": [
        "df1"
      ]
    },
    {
      "cell_type": "markdown",
      "metadata": {
        "id": "7SsvTEXZQZRX"
      },
      "source": [
        "OUTLIER DETECTION AND REMOVAL"
      ]
    },
    {
      "cell_type": "code",
      "execution_count": null,
      "metadata": {
        "id": "FW__oQXWIP3-",
        "colab": {
          "base_uri": "https://localhost:8080/"
        },
        "outputId": "e4b46123-f048-44a3-e3c4-4e314db62661"
      },
      "outputs": [
        {
          "output_type": "stream",
          "name": "stdout",
          "text": [
            "Date_of_entry        0\n",
            "Humidity             0\n",
            "Pressure            58\n",
            "Rainfall_status    276\n",
            "Temperature         35\n",
            "Time                 0\n",
            "dtype: int64\n"
          ]
        },
        {
          "output_type": "stream",
          "name": "stderr",
          "text": [
            "<ipython-input-60-84f0870b2d44>:2: FutureWarning: The default value of numeric_only in DataFrame.quantile is deprecated. In a future version, it will default to False. Select only valid columns or specify the value of numeric_only to silence this warning.\n",
            "  Q1 = df1.quantile(0.25)\n",
            "<ipython-input-60-84f0870b2d44>:3: FutureWarning: The default value of numeric_only in DataFrame.quantile is deprecated. In a future version, it will default to False. Select only valid columns or specify the value of numeric_only to silence this warning.\n",
            "  Q3 = df1.quantile(0.75)\n",
            "<ipython-input-60-84f0870b2d44>:7: FutureWarning: Automatic reindexing on DataFrame vs Series comparisons is deprecated and will raise ValueError in a future version. Do `left, right = left.align(right, axis=1, copy=False)` before e.g. `left == right`\n",
            "  outliers = (df1 < lower_bound) | (df1 > upper_bound)\n"
          ]
        }
      ],
      "source": [
        "def detect_outliers(df1):\n",
        "    Q1 = df1.quantile(0.25)\n",
        "    Q3 = df1.quantile(0.75)\n",
        "    IQR = Q3 - Q1\n",
        "    lower_bound = Q1 - 3 * IQR\n",
        "    upper_bound = Q3 + 3 * IQR\n",
        "    outliers = (df1 < lower_bound) | (df1 > upper_bound)\n",
        "    return outliers\n",
        "\n",
        "# Identify outliers in the whole dataset\n",
        "outliers = detect_outliers(df1)\n",
        "\n",
        "# Count the number of outliers in each column\n",
        "outliers_count = outliers.sum()\n",
        "\n",
        "# Print the number of outliers in each column\n",
        "print(outliers_count)"
      ]
    },
    {
      "cell_type": "code",
      "execution_count": null,
      "metadata": {
        "id": "xDO15jmjPmb9"
      },
      "outputs": [],
      "source": [
        "for col in df1.columns:\n",
        "    if df1[col].dtype == 'float64' or df1[col].dtype == 'int64':\n",
        "        median = df1[col].median()\n",
        "        std = df1[col].std()\n",
        "        lower = median - (2 * std)\n",
        "        upper = median + (2 * std)\n",
        "        df1.loc[(df1[col] < lower) | (df1[col] > upper), col] = median"
      ]
    },
    {
      "cell_type": "code",
      "execution_count": null,
      "metadata": {
        "id": "JeENY-NrHk_Y",
        "colab": {
          "base_uri": "https://localhost:8080/",
          "height": 445
        },
        "outputId": "a55162be-d9c3-488e-ecf0-99ed8ab10536"
      },
      "outputs": [
        {
          "output_type": "display_data",
          "data": {
            "text/plain": [
              "<Figure size 640x480 with 1 Axes>"
            ],
            "image/png": "[encoded data removed]"
          },
          "metadata": {}
        }
      ],
      "source": [
        "plt.scatter(df1['Temperature'], df1['Pressure'])\n",
        "\n",
        "# find outlier\n",
        "outlier = df1[(df1['Temperature'] > 40) & (df1['Pressure'] > 80)]\n",
        "\n",
        "# annotate outlier\n",
        "for index, row in outlier.iterrows():\n",
        "    plt.annotate(index, (row['Temperature'], row['Pressure']))\n",
        "\n",
        "plt.show()"
      ]
    },
    {
      "cell_type": "code",
      "execution_count": null,
      "metadata": {
        "id": "HYvaExzJPrR5",
        "colab": {
          "base_uri": "https://localhost:8080/",
          "height": 423
        },
        "outputId": "66e52e64-cf0f-453c-b14e-575584c85684"
      },
      "outputs": [
        {
          "output_type": "execute_result",
          "data": {
            "text/plain": [
              "     Date_of_entry      Time  Temperature  Pressure  Humidity  Rainfall_status\n",
              "0       17-04-2023  14:15:24        32.34  90995.19     54.00                0\n",
              "1       17-04-2023  14:15:24        32.33  90998.43     55.00                0\n",
              "2       17-04-2023  14:19:28        32.33  90998.92     55.00                0\n",
              "3       17-04-2023  14:19:31        32.33  91001.96     55.00                0\n",
              "4       17-04-2023  14:19:35        32.33  90998.42     55.00                0\n",
              "...            ...       ...          ...       ...       ...              ...\n",
              "1243    18-04-2023  11:45:04        30.68  90999.83     73.00                0\n",
              "1244    17-04-2023  14:19:39        32.32  91001.24     49.00                0\n",
              "1245    18-04-2023  11:44:54        30.27  91000.63     72.64                0\n",
              "1246    18-04-2023  11:44:08        30.27  90998.14     73.00                0\n",
              "1247    17-04-2023  14:22:43        32.26  90999.83     51.00                0\n",
              "\n",
              "[1248 rows x 6 columns]"
            ],
            "text/html": [
              "\n",
              "  <div id=\"df-b51bd7a4-8f3d-401a-ad90-2de82e05b3e0\">\n",
              "    <div class=\"colab-df-container\">\n",
              "      <div>\n",
              "<style scoped>\n",
              "    .dataframe tbody tr th:only-of-type {\n",
              "        vertical-align: middle;\n",
              "    }\n",
              "\n",
              "    .dataframe tbody tr th {\n",
              "        vertical-align: top;\n",
              "    }\n",
              "\n",
              "    .dataframe thead th {\n",
              "        text-align: right;\n",
              "    }\n",
              "</style>\n",
              "<table border=\"1\" class=\"dataframe\">\n",
              "  <thead>\n",
              "    <tr style=\"text-align: right;\">\n",
              "      <th></th>\n",
              "      <th>Date_of_entry</th>\n",
              "      <th>Time</th>\n",
              "      <th>Temperature</th>\n",
              "      <th>Pressure</th>\n",
              "      <th>Humidity</th>\n",
              "      <th>Rainfall_status</th>\n",
              "    </tr>\n",
              "  </thead>\n",
              "  <tbody>\n",
              "    <tr>\n",
              "      <th>0</th>\n",
              "      <td>17-04-2023</td>\n",
              "      <td>14:15:24</td>\n",
              "      <td>32.34</td>\n",
              "      <td>90995.19</td>\n",
              "      <td>54.00</td>\n",
              "      <td>0</td>\n",
              "    </tr>\n",
              "    <tr>\n",
              "      <th>1</th>\n",
              "      <td>17-04-2023</td>\n",
              "      <td>14:15:24</td>\n",
              "      <td>32.33</td>\n",
              "      <td>90998.43</td>\n",
              "      <td>55.00</td>\n",
              "      <td>0</td>\n",
              "    </tr>\n",
              "    <tr>\n",
              "      <th>2</th>\n",
              "      <td>17-04-2023</td>\n",
              "      <td>14:19:28</td>\n",
              "      <td>32.33</td>\n",
              "      <td>90998.92</td>\n",
              "      <td>55.00</td>\n",
              "      <td>0</td>\n",
              "    </tr>\n",
              "    <tr>\n",
              "      <th>3</th>\n",
              "      <td>17-04-2023</td>\n",
              "      <td>14:19:31</td>\n",
              "      <td>32.33</td>\n",
              "      <td>91001.96</td>\n",
              "      <td>55.00</td>\n",
              "      <td>0</td>\n",
              "    </tr>\n",
              "    <tr>\n",
              "      <th>4</th>\n",
              "      <td>17-04-2023</td>\n",
              "      <td>14:19:35</td>\n",
              "      <td>32.33</td>\n",
              "      <td>90998.42</td>\n",
              "      <td>55.00</td>\n",
              "      <td>0</td>\n",
              "    </tr>\n",
              "    <tr>\n",
              "      <th>...</th>\n",
              "      <td>...</td>\n",
              "      <td>...</td>\n",
              "      <td>...</td>\n",
              "      <td>...</td>\n",
              "      <td>...</td>\n",
              "      <td>...</td>\n",
              "    </tr>\n",
              "    <tr>\n",
              "      <th>1243</th>\n",
              "      <td>18-04-2023</td>\n",
              "      <td>11:45:04</td>\n",
              "      <td>30.68</td>\n",
              "      <td>90999.83</td>\n",
              "      <td>73.00</td>\n",
              "      <td>0</td>\n",
              "    </tr>\n",
              "    <tr>\n",
              "      <th>1244</th>\n",
              "      <td>17-04-2023</td>\n",
              "      <td>14:19:39</td>\n",
              "      <td>32.32</td>\n",
              "      <td>91001.24</td>\n",
              "      <td>49.00</td>\n",
              "      <td>0</td>\n",
              "    </tr>\n",
              "    <tr>\n",
              "      <th>1245</th>\n",
              "      <td>18-04-2023</td>\n",
              "      <td>11:44:54</td>\n",
              "      <td>30.27</td>\n",
              "      <td>91000.63</td>\n",
              "      <td>72.64</td>\n",
              "      <td>0</td>\n",
              "    </tr>\n",
              "    <tr>\n",
              "      <th>1246</th>\n",
              "      <td>18-04-2023</td>\n",
              "      <td>11:44:08</td>\n",
              "      <td>30.27</td>\n",
              "      <td>90998.14</td>\n",
              "      <td>73.00</td>\n",
              "      <td>0</td>\n",
              "    </tr>\n",
              "    <tr>\n",
              "      <th>1247</th>\n",
              "      <td>17-04-2023</td>\n",
              "      <td>14:22:43</td>\n",
              "      <td>32.26</td>\n",
              "      <td>90999.83</td>\n",
              "      <td>51.00</td>\n",
              "      <td>0</td>\n",
              "    </tr>\n",
              "  </tbody>\n",
              "</table>\n",
              "<p>1248 rows × 6 columns</p>\n",
              "</div>\n",
              "      <button class=\"colab-df-convert\" onclick=\"convertToInteractive('df-b51bd7a4-8f3d-401a-ad90-2de82e05b3e0')\"\n",
              "              title=\"Convert this dataframe to an interactive table.\"\n",
              "              style=\"display:none;\">\n",
              "        \n",
              "  <svg xmlns=\"http://www.w3.org/2000/svg\" height=\"24px\"viewBox=\"0 0 24 24\"\n",
              "       width=\"24px\">\n",
              "    <path d=\"M0 0h24v24H0V0z\" fill=\"none\"/>\n",
              "    <path d=\"M18.56 5.44l.94 2.06.94-2.06 2.06-.94-2.06-.94-.94-2.06-.94 2.06-2.06.94zm-11 1L8.5 8.5l.94-2.06 2.06-.94-2.06-.94L8.5 2.5l-.94 2.06-2.06.94zm10 10l.94 2.06.94-2.06 2.06-.94-2.06-.94-.94-2.06-.94 2.06-2.06.94z\"/><path d=\"M17.41 7.96l-1.37-1.37c-.4-.4-.92-.59-1.43-.59-.52 0-1.04.2-1.43.59L10.3 9.45l-7.72 7.72c-.78.78-.78 2.05 0 2.83L4 21.41c.39.39.9.59 1.41.59.51 0 1.02-.2 1.41-.59l7.78-7.78 2.81-2.81c.8-.78.8-2.07 0-2.86zM5.41 20L4 18.59l7.72-7.72 1.47 1.35L5.41 20z\"/>\n",
              "  </svg>\n",
              "      </button>\n",
              "      \n",
              "  <style>\n",
              "    .colab-df-container {\n",
              "      display:flex;\n",
              "      flex-wrap:wrap;\n",
              "      gap: 12px;\n",
              "    }\n",
              "\n",
              "    .colab-df-convert {\n",
              "      background-color: #E8F0FE;\n",
              "      border: none;\n",
              "      border-radius: 50%;\n",
              "      cursor: pointer;\n",
              "      display: none;\n",
              "      fill: #1967D2;\n",
              "      height: 32px;\n",
              "      padding: 0 0 0 0;\n",
              "      width: 32px;\n",
              "    }\n",
              "\n",
              "    .colab-df-convert:hover {\n",
              "      background-color: #E2EBFA;\n",
              "      box-shadow: 0px 1px 2px rgba(60, 64, 67, 0.3), 0px 1px 3px 1px rgba(60, 64, 67, 0.15);\n",
              "      fill: #174EA6;\n",
              "    }\n",
              "\n",
              "    [theme=dark] .colab-df-convert {\n",
              "      background-color: #3B4455;\n",
              "      fill: #D2E3FC;\n",
              "    }\n",
              "\n",
              "    [theme=dark] .colab-df-convert:hover {\n",
              "      background-color: #434B5C;\n",
              "      box-shadow: 0px 1px 3px 1px rgba(0, 0, 0, 0.15);\n",
              "      filter: drop-shadow(0px 1px 2px rgba(0, 0, 0, 0.3));\n",
              "      fill: #FFFFFF;\n",
              "    }\n",
              "  </style>\n",
              "\n",
              "      <script>\n",
              "        const buttonEl =\n",
              "          document.querySelector('#df-b51bd7a4-8f3d-401a-ad90-2de82e05b3e0 button.colab-df-convert');\n",
              "        buttonEl.style.display =\n",
              "          google.colab.kernel.accessAllowed ? 'block' : 'none';\n",
              "\n",
              "        async function convertToInteractive(key) {\n",
              "          const element = document.querySelector('#df-b51bd7a4-8f3d-401a-ad90-2de82e05b3e0');\n",
              "          const dataTable =\n",
              "            await google.colab.kernel.invokeFunction('convertToInteractive',\n",
              "                                                     [key], {});\n",
              "          if (!dataTable) return;\n",
              "\n",
              "          const docLinkHtml = 'Like what you see? Visit the ' +\n",
              "            '<a target=\"_blank\" href=https://colab.research.google.com/notebooks/data_table.ipynb>data table notebook</a>'\n",
              "            + ' to learn more about interactive tables.';\n",
              "          element.innerHTML = '';\n",
              "          dataTable['output_type'] = 'display_data';\n",
              "          await google.colab.output.renderOutput(dataTable, element);\n",
              "          const docLink = document.createElement('div');\n",
              "          docLink.innerHTML = docLinkHtml;\n",
              "          element.appendChild(docLink);\n",
              "        }\n",
              "      </script>\n",
              "    </div>\n",
              "  </div>\n",
              "  "
            ]
          },
          "metadata": {},
          "execution_count": 63
        }
      ],
      "source": [
        "df1"
      ]
    },
    {
      "cell_type": "code",
      "execution_count": null,
      "metadata": {
        "id": "lkxEAjVaLGYX",
        "colab": {
          "base_uri": "https://localhost:8080/"
        },
        "outputId": "81732a1f-8b9c-46c8-a586-c26f467a6fa6"
      },
      "outputs": [
        {
          "output_type": "stream",
          "name": "stdout",
          "text": [
            "Index(['Date_of_entry', 'Time', 'Temperature', 'Pressure', 'Humidity',\n",
            "       'Rainfall_status'],\n",
            "      dtype='object')\n"
          ]
        }
      ],
      "source": [
        "print(df1.columns)"
      ]
    },
    {
      "cell_type": "markdown",
      "source": [
        "## Splitting as training and testing"
      ],
      "metadata": {
        "id": "MZdlWYhiEPim"
      }
    },
    {
      "cell_type": "code",
      "source": [
        "df1.drop(columns=['Date_of_entry', 'Time'], inplace=True)"
      ],
      "metadata": {
        "id": "Z3PG1vbXZJ_r"
      },
      "execution_count": null,
      "outputs": []
    },
    {
      "cell_type": "code",
      "source": [
        "# Convert the 'temperature' column to a float\n",
        "df1['Temperature'] = df1['Temperature'].astype(float)\n"
      ],
      "metadata": {
        "id": "cedHSgBwT8nv"
      },
      "execution_count": null,
      "outputs": []
    },
    {
      "cell_type": "code",
      "source": [
        "# Separate the target variable (y) from the features (X)\n",
        "X = df1.drop('Temperature', axis=1)\n",
        "y = df1['Temperature']"
      ],
      "metadata": {
        "id": "P8XANEBeEYZe"
      },
      "execution_count": null,
      "outputs": []
    },
    {
      "cell_type": "code",
      "source": [
        "df1"
      ],
      "metadata": {
        "id": "bqJjXd9UX9V9",
        "colab": {
          "base_uri": "https://localhost:8080/",
          "height": 423
        },
        "outputId": "0426fc37-f49d-4dd8-9e66-ee7478dcad74"
      },
      "execution_count": null,
      "outputs": [
        {
          "output_type": "execute_result",
          "data": {
            "text/plain": [
              "      Temperature  Pressure  Humidity  Rainfall_status\n",
              "0           32.34  90995.19     54.00                0\n",
              "1           32.33  90998.43     55.00                0\n",
              "2           32.33  90998.92     55.00                0\n",
              "3           32.33  91001.96     55.00                0\n",
              "4           32.33  90998.42     55.00                0\n",
              "...           ...       ...       ...              ...\n",
              "1243        30.68  90999.83     73.00                0\n",
              "1244        32.32  91001.24     49.00                0\n",
              "1245        30.27  91000.63     72.64                0\n",
              "1246        30.27  90998.14     73.00                0\n",
              "1247        32.26  90999.83     51.00                0\n",
              "\n",
              "[1248 rows x 4 columns]"
            ],
            "text/html": [
              "\n",
              "  <div id=\"df-ca4239f6-e661-4b94-a6a6-f25ebf06fe92\">\n",
              "    <div class=\"colab-df-container\">\n",
              "      <div>\n",
              "<style scoped>\n",
              "    .dataframe tbody tr th:only-of-type {\n",
              "        vertical-align: middle;\n",
              "    }\n",
              "\n",
              "    .dataframe tbody tr th {\n",
              "        vertical-align: top;\n",
              "    }\n",
              "\n",
              "    .dataframe thead th {\n",
              "        text-align: right;\n",
              "    }\n",
              "</style>\n",
              "<table border=\"1\" class=\"dataframe\">\n",
              "  <thead>\n",
              "    <tr style=\"text-align: right;\">\n",
              "      <th></th>\n",
              "      <th>Temperature</th>\n",
              "      <th>Pressure</th>\n",
              "      <th>Humidity</th>\n",
              "      <th>Rainfall_status</th>\n",
              "    </tr>\n",
              "  </thead>\n",
              "  <tbody>\n",
              "    <tr>\n",
              "      <th>0</th>\n",
              "      <td>32.34</td>\n",
              "      <td>90995.19</td>\n",
              "      <td>54.00</td>\n",
              "      <td>0</td>\n",
              "    </tr>\n",
              "    <tr>\n",
              "      <th>1</th>\n",
              "      <td>32.33</td>\n",
              "      <td>90998.43</td>\n",
              "      <td>55.00</td>\n",
              "      <td>0</td>\n",
              "    </tr>\n",
              "    <tr>\n",
              "      <th>2</th>\n",
              "      <td>32.33</td>\n",
              "      <td>90998.92</td>\n",
              "      <td>55.00</td>\n",
              "      <td>0</td>\n",
              "    </tr>\n",
              "    <tr>\n",
              "      <th>3</th>\n",
              "      <td>32.33</td>\n",
              "      <td>91001.96</td>\n",
              "      <td>55.00</td>\n",
              "      <td>0</td>\n",
              "    </tr>\n",
              "    <tr>\n",
              "      <th>4</th>\n",
              "      <td>32.33</td>\n",
              "      <td>90998.42</td>\n",
              "      <td>55.00</td>\n",
              "      <td>0</td>\n",
              "    </tr>\n",
              "    <tr>\n",
              "      <th>...</th>\n",
              "      <td>...</td>\n",
              "      <td>...</td>\n",
              "      <td>...</td>\n",
              "      <td>...</td>\n",
              "    </tr>\n",
              "    <tr>\n",
              "      <th>1243</th>\n",
              "      <td>30.68</td>\n",
              "      <td>90999.83</td>\n",
              "      <td>73.00</td>\n",
              "      <td>0</td>\n",
              "    </tr>\n",
              "    <tr>\n",
              "      <th>1244</th>\n",
              "      <td>32.32</td>\n",
              "      <td>91001.24</td>\n",
              "      <td>49.00</td>\n",
              "      <td>0</td>\n",
              "    </tr>\n",
              "    <tr>\n",
              "      <th>1245</th>\n",
              "      <td>30.27</td>\n",
              "      <td>91000.63</td>\n",
              "      <td>72.64</td>\n",
              "      <td>0</td>\n",
              "    </tr>\n",
              "    <tr>\n",
              "      <th>1246</th>\n",
              "      <td>30.27</td>\n",
              "      <td>90998.14</td>\n",
              "      <td>73.00</td>\n",
              "      <td>0</td>\n",
              "    </tr>\n",
              "    <tr>\n",
              "      <th>1247</th>\n",
              "      <td>32.26</td>\n",
              "      <td>90999.83</td>\n",
              "      <td>51.00</td>\n",
              "      <td>0</td>\n",
              "    </tr>\n",
              "  </tbody>\n",
              "</table>\n",
              "<p>1248 rows × 4 columns</p>\n",
              "</div>\n",
              "      <button class=\"colab-df-convert\" onclick=\"convertToInteractive('df-ca4239f6-e661-4b94-a6a6-f25ebf06fe92')\"\n",
              "              title=\"Convert this dataframe to an interactive table.\"\n",
              "              style=\"display:none;\">\n",
              "        \n",
              "  <svg xmlns=\"http://www.w3.org/2000/svg\" height=\"24px\"viewBox=\"0 0 24 24\"\n",
              "       width=\"24px\">\n",
              "    <path d=\"M0 0h24v24H0V0z\" fill=\"none\"/>\n",
              "    <path d=\"M18.56 5.44l.94 2.06.94-2.06 2.06-.94-2.06-.94-.94-2.06-.94 2.06-2.06.94zm-11 1L8.5 8.5l.94-2.06 2.06-.94-2.06-.94L8.5 2.5l-.94 2.06-2.06.94zm10 10l.94 2.06.94-2.06 2.06-.94-2.06-.94-.94-2.06-.94 2.06-2.06.94z\"/><path d=\"M17.41 7.96l-1.37-1.37c-.4-.4-.92-.59-1.43-.59-.52 0-1.04.2-1.43.59L10.3 9.45l-7.72 7.72c-.78.78-.78 2.05 0 2.83L4 21.41c.39.39.9.59 1.41.59.51 0 1.02-.2 1.41-.59l7.78-7.78 2.81-2.81c.8-.78.8-2.07 0-2.86zM5.41 20L4 18.59l7.72-7.72 1.47 1.35L5.41 20z\"/>\n",
              "  </svg>\n",
              "      </button>\n",
              "      \n",
              "  <style>\n",
              "    .colab-df-container {\n",
              "      display:flex;\n",
              "      flex-wrap:wrap;\n",
              "      gap: 12px;\n",
              "    }\n",
              "\n",
              "    .colab-df-convert {\n",
              "      background-color: #E8F0FE;\n",
              "      border: none;\n",
              "      border-radius: 50%;\n",
              "      cursor: pointer;\n",
              "      display: none;\n",
              "      fill: #1967D2;\n",
              "      height: 32px;\n",
              "      padding: 0 0 0 0;\n",
              "      width: 32px;\n",
              "    }\n",
              "\n",
              "    .colab-df-convert:hover {\n",
              "      background-color: #E2EBFA;\n",
              "      box-shadow: 0px 1px 2px rgba(60, 64, 67, 0.3), 0px 1px 3px 1px rgba(60, 64, 67, 0.15);\n",
              "      fill: #174EA6;\n",
              "    }\n",
              "\n",
              "    [theme=dark] .colab-df-convert {\n",
              "      background-color: #3B4455;\n",
              "      fill: #D2E3FC;\n",
              "    }\n",
              "\n",
              "    [theme=dark] .colab-df-convert:hover {\n",
              "      background-color: #434B5C;\n",
              "      box-shadow: 0px 1px 3px 1px rgba(0, 0, 0, 0.15);\n",
              "      filter: drop-shadow(0px 1px 2px rgba(0, 0, 0, 0.3));\n",
              "      fill: #FFFFFF;\n",
              "    }\n",
              "  </style>\n",
              "\n",
              "      <script>\n",
              "        const buttonEl =\n",
              "          document.querySelector('#df-ca4239f6-e661-4b94-a6a6-f25ebf06fe92 button.colab-df-convert');\n",
              "        buttonEl.style.display =\n",
              "          google.colab.kernel.accessAllowed ? 'block' : 'none';\n",
              "\n",
              "        async function convertToInteractive(key) {\n",
              "          const element = document.querySelector('#df-ca4239f6-e661-4b94-a6a6-f25ebf06fe92');\n",
              "          const dataTable =\n",
              "            await google.colab.kernel.invokeFunction('convertToInteractive',\n",
              "                                                     [key], {});\n",
              "          if (!dataTable) return;\n",
              "\n",
              "          const docLinkHtml = 'Like what you see? Visit the ' +\n",
              "            '<a target=\"_blank\" href=https://colab.research.google.com/notebooks/data_table.ipynb>data table notebook</a>'\n",
              "            + ' to learn more about interactive tables.';\n",
              "          element.innerHTML = '';\n",
              "          dataTable['output_type'] = 'display_data';\n",
              "          await google.colab.output.renderOutput(dataTable, element);\n",
              "          const docLink = document.createElement('div');\n",
              "          docLink.innerHTML = docLinkHtml;\n",
              "          element.appendChild(docLink);\n",
              "        }\n",
              "      </script>\n",
              "    </div>\n",
              "  </div>\n",
              "  "
            ]
          },
          "metadata": {},
          "execution_count": 68
        }
      ]
    },
    {
      "cell_type": "markdown",
      "metadata": {
        "id": "OKnoz4eIVJMz"
      },
      "source": [
        "# LINEAR REGRESSION"
      ]
    },
    {
      "cell_type": "code",
      "source": [
        "# Split the dataset into training and testing sets\n",
        "X_train, X_test, y_train, y_test = train_test_split(X, y, test_size=0.2, random_state=42)\n",
        "\n",
        "# Create a Linear Regression model\n",
        "model = LinearRegression()\n",
        "\n",
        "# Train the model on the training set\n",
        "model.fit(X_train, y_train)\n",
        "\n",
        "# Make predictions on the test set\n",
        "y_pred = model.predict(X_test)\n",
        "\n",
        "# Calculate the regression metrics for Linear Regression\n",
        "linear_reg_mse = mean_squared_error(y_test, y_pred)\n",
        "mae_lr = mean_absolute_error(y_test, y_pred)\n",
        "linear_reg_rmse = mean_squared_error(y_test, y_pred, squared=False)\n",
        "linear_reg_r2 = r2_score(y_test, y_pred)\n",
        "\n",
        "print(\"Linear Regression\")\n",
        "print(\"Mean Squared Error: \", linear_reg_mse)\n",
        "print(\"Mean Absolute Error: \", mae_lr)\n",
        "print(\"Root Mean Squared Error: \", linear_reg_rmse)\n",
        "print(\"R-squared: \", linear_reg_r2)"
      ],
      "metadata": {
        "id": "OM6FbODWTX6w",
        "colab": {
          "base_uri": "https://localhost:8080/"
        },
        "outputId": "9d0a6848-3621-41b1-fb23-cf497541d95d"
      },
      "execution_count": null,
      "outputs": [
        {
          "output_type": "stream",
          "name": "stdout",
          "text": [
            "Linear Regression\n",
            "Mean Squared Error:  2.073917653657631\n",
            "Mean Absolute Error:  1.2277477130357752\n",
            "Root Mean Squared Error:  1.4401102921851614\n",
            "R-squared:  0.42340102431352766\n"
          ]
        }
      ]
    },
    {
      "cell_type": "markdown",
      "source": [
        "## XGBOOST REGRESSION MODEL"
      ],
      "metadata": {
        "id": "UH1LFo-vcg7E"
      }
    },
    {
      "cell_type": "code",
      "source": [
        "# Create an XGBoost Regression model\n",
        "model = XGBRegressor()\n",
        "\n",
        "# Train the model on the training set\n",
        "model.fit(X_train, y_train)\n",
        "\n",
        "# Make predictions on the test set\n",
        "y_pred = model.predict(X_test)\n",
        "\n",
        "# Calculate the mean squared error\n",
        "xgboost_mse = mean_squared_error(y_test, y_pred)\n",
        "mae_xgb = mean_absolute_error(y_test, y_pred)\n",
        "xgboost_rmse = mean_squared_error(y_test, y_pred, squared=False)\n",
        "xgboost_r2 = r2_score(y_test, y_pred)\n",
        "\n",
        "print(\"XGBoost Regression Model\")\n",
        "print(\"Mean Squared Error: \", xgboost_mse)\n",
        "print(\"Mean Absolute Error: \", mae_xgb)\n",
        "print(\"Root Mean Squared Error: \", xgboost_rmse)\n",
        "print(\"R-squared: \", xgboost_r2)"
      ],
      "metadata": {
        "id": "OsxBsJNocAQn",
        "colab": {
          "base_uri": "https://localhost:8080/"
        },
        "outputId": "e042d4d2-ce1e-4888-d6d9-0bdc854a40f9"
      },
      "execution_count": null,
      "outputs": [
        {
          "output_type": "stream",
          "name": "stdout",
          "text": [
            "XGBoost Regression Model\n",
            "Mean Squared Error:  0.06970830000853402\n",
            "Mean Absolute Error:  0.06244980895996093\n",
            "Root Mean Squared Error:  0.264023294442998\n",
            "R-squared:  0.9806194164407256\n"
          ]
        }
      ]
    },
    {
      "cell_type": "markdown",
      "source": [
        "## KNN MODEL"
      ],
      "metadata": {
        "id": "tBY7M402dBJm"
      }
    },
    {
      "cell_type": "code",
      "source": [
        "# Create a KNN regression model\n",
        "knn = KNeighborsRegressor(n_neighbors=5)\n",
        "\n",
        "# Train the model on the training set\n",
        "knn.fit(X_train, y_train)\n",
        "\n",
        "# Make predictions on the test set\n",
        "y_pred = knn.predict(X_test)\n",
        "\n",
        "# Calculate the mean squared error\n",
        "knn_mse = mean_squared_error(y_test, y_pred)\n",
        "mae_knn = mean_absolute_error(y_test, y_pred)\n",
        "knn_rmse = mean_squared_error(y_test, y_pred, squared=False)\n",
        "knn_r2 = r2_score(y_test, y_pred)\n",
        "\n",
        "print(\"KNN Regression Model\")\n",
        "print(\"Mean Squared Error: \", knn_mse)\n",
        "print(\"Mean Absolute Error: \", mae_knn)\n",
        "print(\"Root Mean Squared Error: \", knn_rmse)\n",
        "print(\"R-squared: \", knn_r2)"
      ],
      "metadata": {
        "id": "p63bASpGco18",
        "colab": {
          "base_uri": "https://localhost:8080/"
        },
        "outputId": "549ecdd4-7176-4cdc-c992-89833d6f1dc0"
      },
      "execution_count": null,
      "outputs": [
        {
          "output_type": "stream",
          "name": "stdout",
          "text": [
            "KNN Regression Model\n",
            "Mean Squared Error:  0.14379952\n",
            "Mean Absolute Error:  0.1895040000000002\n",
            "Root Mean Squared Error:  0.37920907162144735\n",
            "R-squared:  0.9600202757375755\n"
          ]
        }
      ]
    },
    {
      "cell_type": "markdown",
      "source": [
        "# SVR(Support Vector Regression)"
      ],
      "metadata": {
        "id": "B7GCtuINdXvP"
      }
    },
    {
      "cell_type": "code",
      "source": [
        "# create a SVR model\n",
        "model = SVR(kernel='rbf')\n",
        "\n",
        "# train the model on the training set\n",
        "model.fit(X_train, y_train)\n",
        "\n",
        "# make predictions on the test set\n",
        "y_pred = model.predict(X_test)\n",
        "\n",
        "# calculate the mean squared error and r-squared score\n",
        "svr_mse = mean_squared_error(y_test, y_pred)\n",
        "mae_svr = mean_absolute_error(y_test, y_pred)\n",
        "svr_rmse = mean_squared_error(y_test, y_pred, squared=False)\n",
        "svr_r2 = r2_score(y_test, y_pred)\n",
        "\n",
        "# print the performance metrics\n",
        "print(\"Support Vector Regression\")\n",
        "print(\"Mean Squared Error (MSE): \", svr_mse)\n",
        "print(\"Mean Absolute Error (MAE): \", mae_svr)\n",
        "print(\"Root Mean Squared Error: \", svr_rmse)\n",
        "print(\"R-squared (R2) Score: \", svr_r2)"
      ],
      "metadata": {
        "id": "fy8LbFNjdCtV",
        "colab": {
          "base_uri": "https://localhost:8080/"
        },
        "outputId": "6bfd3c3f-c218-4e80-ed44-fabbb531cb46"
      },
      "execution_count": null,
      "outputs": [
        {
          "output_type": "stream",
          "name": "stdout",
          "text": [
            "Support Vector Regression\n",
            "Mean Squared Error (MSE):  5.876841206025927\n",
            "Mean Absolute Error (MAE):  1.6394337284593286\n",
            "Root Mean Squared Error:  2.424219710757655\n",
            "R-squared (R2) Score:  -0.6339031656779561\n"
          ]
        }
      ]
    },
    {
      "cell_type": "markdown",
      "source": [
        "## GRADIENT BOOSTING"
      ],
      "metadata": {
        "id": "iTuDvZZmeJHY"
      }
    },
    {
      "cell_type": "code",
      "source": [
        "# Create the Gradient Boosting Regression model with default hyperparameters\n",
        "gb_model = GradientBoostingRegressor(random_state=42)\n",
        "\n",
        "# Train the model on the training set\n",
        "gb_model.fit(X_train, y_train)\n",
        "\n",
        "# Make predictions on the test set\n",
        "y_pred = gb_model.predict(X_test)\n",
        "\n",
        "# Calculate performance metrics\n",
        "gradient_boost_mse = mean_squared_error(y_test, y_pred)\n",
        "mae_gb = mean_absolute_error(y_test, y_pred)\n",
        "gradient_boost_rmse = mean_squared_error(y_test, y_pred, squared=False)\n",
        "gradient_boost_r2 = r2_score(y_test, y_pred)\n",
        "\n",
        "# Print the performance metrics\n",
        "print(\"Gradient Boosting Regression\")\n",
        "print(\"Mean Squared Error (MSE): \", gradient_boost_mse)\n",
        "print(\"Mean Absolute Error (MAE): \", mae_gb)\n",
        "print(\"Root Mean Squared Error (RMSE): \", gradient_boost_rmse)\n",
        "print(\"R-squared (R2) value: \", gradient_boost_r2)"
      ],
      "metadata": {
        "id": "78WJ1iM3dfTc",
        "colab": {
          "base_uri": "https://localhost:8080/"
        },
        "outputId": "cf85ac1f-24f9-4697-da5f-b73d17c82f6f"
      },
      "execution_count": null,
      "outputs": [
        {
          "output_type": "stream",
          "name": "stdout",
          "text": [
            "Gradient Boosting Regression\n",
            "Mean Squared Error (MSE):  0.13356140176845493\n",
            "Mean Absolute Error (MAE):  0.1998063326973503\n",
            "Root Mean Squared Error (RMSE):  0.3654605338042056\n",
            "R-squared (R2) value:  0.962866718784557\n"
          ]
        }
      ]
    },
    {
      "cell_type": "markdown",
      "source": [
        "TABLE TO COMPARE THE PERFORMANCE"
      ],
      "metadata": {
        "id": "6zgB_NjSfE93"
      }
    },
    {
      "cell_type": "code",
      "source": [
        "# Create a dataframe to store the performance metrics\n",
        "data = {'Model': ['Linear Regression', 'XGBoost Regression', 'SVR', 'KNN Regression', 'Gradient Boosting Regression'],\n",
        "        'MSE': [linear_reg_mse, xgboost_mse, svr_mse, knn_mse, gradient_boost_mse],\n",
        "        'MAE':[mae_lr,mae_xgb,mae_svr,mae_knn,mae_gb],\n",
        "        'RMSE': [linear_reg_rmse, xgboost_rmse, svr_rmse, knn_rmse, gradient_boost_rmse],\n",
        "        'R-Squared': [linear_reg_r2, xgboost_r2, svr_r2, knn_r2, gradient_boost_r2]}\n",
        "df = pd.DataFrame(data)\n",
        "\n",
        "# Print the dataframe\n",
        "print(df)"
      ],
      "metadata": {
        "id": "J0qQgmAOeQ7s",
        "colab": {
          "base_uri": "https://localhost:8080/"
        },
        "outputId": "59e77ecc-9e0a-4dd6-c0b3-311cf5e9b2b7"
      },
      "execution_count": null,
      "outputs": [
        {
          "output_type": "stream",
          "name": "stdout",
          "text": [
            "                          Model       MSE       MAE      RMSE  R-Squared\n",
            "0             Linear Regression  2.073918  1.227748  1.440110   0.423401\n",
            "1            XGBoost Regression  0.069708  0.062450  0.264023   0.980619\n",
            "2                           SVR  5.876841  1.639434  2.424220  -0.633903\n",
            "3                KNN Regression  0.143800  0.189504  0.379209   0.960020\n",
            "4  Gradient Boosting Regression  0.133561  0.199806  0.365461   0.962867\n"
          ]
        }
      ]
    },
    {
      "cell_type": "markdown",
      "source": [
        "## CROSS VALIDATION"
      ],
      "metadata": {
        "id": "C4I99PHL65zR"
      }
    },
    {
      "cell_type": "code",
      "source": [
        "\n",
        "from sklearn.model_selection import cross_val_score\n",
        "\n",
        "# create X and y arrays\n",
        "X = df1.drop('Temperature', axis=1)\n",
        "y = df1['Temperature']\n",
        "\n",
        "# create the XGBoost Regression model\n",
        "model = XGBRegressor()\n",
        "\n",
        "# perform cross-validation with 5 folds\n",
        "scores = cross_val_score(model, X, y, cv=5, scoring='neg_mean_squared_error')\n",
        "\n",
        "# calculate the average MSE across the folds\n",
        "avg_mse = -scores.mean()\n",
        "\n",
        "# calculate the average RMSE across the folds\n",
        "avg_rmse = np.sqrt(avg_mse)\n",
        "\n",
        "# calculate the average MAE across the folds\n",
        "avg_mae = -scores.mean()\n",
        "\n",
        "# calculate the average R-squared across the folds\n",
        "avg_r2 = scores.mean()\n",
        "\n",
        "print(\"Average MSE: \", avg_mse)\n",
        "print(\"Average RMSE: \", avg_rmse)\n",
        "print(\"Average MAE: \", avg_mae)\n",
        "print(\"Average R-squared: \", avg_r2)\n"
      ],
      "metadata": {
        "id": "LmH8OpaU52zH",
        "colab": {
          "base_uri": "https://localhost:8080/"
        },
        "outputId": "f668c20a-61a1-4378-ba1d-b1b65edc3cf6"
      },
      "execution_count": null,
      "outputs": [
        {
          "output_type": "stream",
          "name": "stdout",
          "text": [
            "Average MSE:  0.021248418444792725\n",
            "Average RMSE:  0.14576837258058664\n",
            "Average MAE:  0.021248418444792725\n",
            "Average R-squared:  -0.021248418444792725\n"
          ]
        }
      ]
    },
    {
      "cell_type": "code",
      "source": [
        "import matplotlib.pyplot as plt\n",
        "import numpy as np\n",
        "\n",
        "# create data\n",
        "models = ['Linear Regression', 'XGBoost Regression', 'SVR', 'KNN Regression', 'Gradient Boosting Regression']\n",
        "mse_scores = [2.073918, 0.069708, 5.876841, 0.143800, 0.133561]\n",
        "mae_scores = [1.227748, 0.062450, 1.639434, 0.189504, 0.199806]\n",
        "rmse_scores = [1.440110, 0.264023, 2.424220, 0.379209, 0.365461]\n",
        "r2_scores = [0.423401, 0.980619, -0.633903, 0.960020, 0.962867]\n",
        "\n",
        "# set width of bar\n",
        "barWidth = 0.2\n",
        "\n",
        "# Set position of bar on X axis\n",
        "r1 = np.arange(len(models))\n",
        "r2 = [x + barWidth for x in r1]\n",
        "r3 = [x + barWidth for x in r2]\n",
        "r4 = [x + barWidth for x in r3]\n",
        "\n",
        "# plot bars\n",
        "plt.bar(r1, mse_scores, color='red', width=barWidth, edgecolor='white', label='MSE')\n",
        "plt.bar(r2, mae_scores, color='blue', width=barWidth, edgecolor='white', label='MAE')\n",
        "plt.bar(r3, rmse_scores, color='green', width=barWidth, edgecolor='white', label='RMSE')\n",
        "plt.bar(r4, r2_scores, color='purple', width=barWidth, edgecolor='white', label='R-squared')\n",
        "\n",
        "# add xticks and labels\n",
        "plt.xticks([r + barWidth for r in range(len(models))], models, rotation=90)\n",
        "plt.xlabel('Models')\n",
        "plt.ylabel('Performance Score')\n",
        "plt.title('Performance Metrics of Each Model')\n",
        "plt.legend()\n",
        "\n",
        "# show graph\n",
        "plt.show()\n",
        "\n"
      ],
      "metadata": {
        "id": "ZIXPV2l97rwF",
        "colab": {
          "base_uri": "https://localhost:8080/",
          "height": 664
        },
        "outputId": "dcbbe832-a9f9-4c74-bf78-c2c19228903e"
      },
      "execution_count": null,
      "outputs": [
        {
          "output_type": "display_data",
          "data": {
            "text/plain": [
              "<Figure size 640x480 with 1 Axes>"
            ],
            "image/png": "[encoded data removed]"
          },
          "metadata": {}
        }
      ]
    },
    {
      "cell_type": "markdown",
      "source": [
        "SAVING AS PKL FILE"
      ],
      "metadata": {
        "id": "hxOKvQR10yUb"
      }
    },
    {
      "cell_type": "code",
      "source": [
        "from sklearn.model_selection import cross_val_score\n",
        "\n",
        "# create X and y arrays\n",
        "X = df1.drop('Temperature', axis=1)\n",
        "y = df1['Temperature']\n",
        "\n",
        "# create the XGBoost Regression model\n",
        "model = XGBRegressor()\n",
        "\n",
        "# perform cross-validation with 5 folds\n",
        "scores = cross_val_score(model, X, y, cv=5, scoring='neg_mean_squared_error')\n",
        "\n",
        "# save the model to disk\n",
        "filename = 'xgboost_model.pkl'\n",
        "joblib.dump(model, filename)\n",
        "\n",
        "# load the model from disk\n",
        "loaded_model = joblib.load(filename)"
      ],
      "metadata": {
        "id": "afH0VgPV-7Yy"
      },
      "execution_count": null,
      "outputs": []
    },
    {
      "cell_type": "markdown",
      "source": [
        "CREATING API"
      ],
      "metadata": {
        "id": "3VACc4ZNvbAp"
      }
    },
    {
      "cell_type": "code",
      "source": [
        "from flask import Flask, request, jsonify\n",
        "import joblib\n",
        "\n",
        "app = Flask(__name__)\n",
        "\n",
        "# load the trained machine learning model\n",
        "model = joblib.load('model.pkl')\n",
        "\n",
        "# define an endpoint for the API\n",
        "@app.route('/predict', methods=['POST'])\n",
        "def predict():\n",
        "    # get the input data from the HTTP request\n",
        "    input_data = request.get_json()\n",
        "\n",
        "    # preprocess the input data\n",
        "    # ...\n",
        "\n",
        "    # pass the input data through the machine learning model to generate predictions\n",
        "    predictions = model.predict(input_data)\n",
        "\n",
        "    # format the predictions as a JSON response and return it\n",
        "    response = jsonify(predictions.tolist())\n",
        "    return response\n"
      ],
      "metadata": {
        "id": "n3077NbT-eqm"
      },
      "execution_count": null,
      "outputs": []
    },
    {
      "cell_type": "code",
      "source": [
        "pip install flask"
      ],
      "metadata": {
        "id": "-fMiT0Pa0h53",
        "colab": {
          "base_uri": "https://localhost:8080/"
        },
        "outputId": "c701f422-2e2f-43aa-dc8e-12f47435c743"
      },
      "execution_count": null,
      "outputs": [
        {
          "output_type": "stream",
          "name": "stdout",
          "text": [
            "Looking in indexes: https://pypi.org/simple, https://us-python.pkg.dev/colab-wheels/public/simple/\n",
            "Requirement already satisfied: flask in /usr/local/lib/python3.10/dist-packages (2.2.4)\n",
            "Requirement already satisfied: Jinja2>=3.0 in /usr/local/lib/python3.10/dist-packages (from flask) (3.1.2)\n",
            "Requirement already satisfied: itsdangerous>=2.0 in /usr/local/lib/python3.10/dist-packages (from flask) (2.1.2)\n",
            "Requirement already satisfied: Werkzeug>=2.2.2 in /usr/local/lib/python3.10/dist-packages (from flask) (2.3.0)\n",
            "Requirement already satisfied: click>=8.0 in /usr/local/lib/python3.10/dist-packages (from flask) (8.1.3)\n",
            "Requirement already satisfied: MarkupSafe>=2.0 in /usr/local/lib/python3.10/dist-packages (from Jinja2>=3.0->flask) (2.1.2)\n"
          ]
        }
      ]
    }
  ],
  "metadata": {
    "colab": {
      "provenance": [],
      "authorship_tag": "ABX9TyPt+6d5YdiGoOWiTGME/aVh",
      "include_colab_link": true
    },
    "kernelspec": {
      "display_name": "Python 3",
      "name": "python3"
    },
    "language_info": {
      "name": "python"
    }
  },
  "nbformat": 4,
  "nbformat_minor": 0
}